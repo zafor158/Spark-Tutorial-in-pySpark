{
  "nbformat": 4,
  "nbformat_minor": 0,
  "metadata": {
    "kernelspec": {
      "display_name": "Python 3",
      "name": "python3"
    },
    "language_info": {
      "codemirror_mode": {
        "name": "ipython",
        "version": 3
      },
      "file_extension": ".py",
      "mimetype": "text/x-python",
      "name": "python",
      "nbconvert_exporter": "python",
      "pygments_lexer": "ipython3",
      "version": "3.7.3"
    },
    "colab": {
      "provenance": [],
      "gpuType": "T4",
      "include_colab_link": true
    },
    "accelerator": "GPU"
  },
  "cells": [
    {
      "cell_type": "markdown",
      "metadata": {
        "id": "view-in-github",
        "colab_type": "text"
      },
      "source": [
        "<a href=\"https://colab.research.google.com/github/zafor158/Spark-Tutorial-in-pySpark/blob/main/Spark_Tutorial_in_pySpark.ipynb\" target=\"_parent\"><img src=\"https://colab.research.google.com/assets/colab-badge.svg\" alt=\"Open In Colab\"/></a>"
      ]
    },
    {
      "cell_type": "markdown",
      "metadata": {
        "id": "GTwDFnjHMk25"
      },
      "source": [
        "# CSE488\n",
        "## Spark Tutorial in pySpark\n",
        "\n",
        "In this tutorial you will learn how to use [Apache Spark](https://spark.apache.org) in local mode on a Colab enviroment.\n",
        "\n",
        "Credits to [Tiziano Piccardi](http://piccardi.me/) for his Spark Tutorial used in the Applied Data Analysis class at EPFL."
      ]
    },
    {
      "cell_type": "markdown",
      "metadata": {
        "id": "eXQzA01OS_yQ"
      },
      "source": [
        "### Setup"
      ]
    },
    {
      "cell_type": "markdown",
      "metadata": {
        "id": "AbYZoVVWOZA5"
      },
      "source": [
        "Let's setup Spark on your Colab environment.  Run the cell below!"
      ]
    },
    {
      "cell_type": "code",
      "metadata": {
        "id": "dhzk3GE6S9RC",
        "colab": {
          "base_uri": "https://localhost:8080/"
        },
        "outputId": "64fc9de1-3862-478f-ad54-80055eb0e5cf"
      },
      "source": [
        "!pip install pyspark\n",
        "!pip install -U -q PyDrive2\n",
        "!apt install openjdk-8-jdk-headless -qq\n",
        "import os\n",
        "os.environ[\"JAVA_HOME\"] = \"/usr/lib/jvm/java-8-openjdk-amd64\""
      ],
      "execution_count": null,
      "outputs": [
        {
          "output_type": "stream",
          "name": "stdout",
          "text": [
            "Requirement already satisfied: pyspark in /usr/local/lib/python3.10/dist-packages (3.5.3)\n",
            "Requirement already satisfied: py4j==0.10.9.7 in /usr/local/lib/python3.10/dist-packages (from pyspark) (0.10.9.7)\n",
            "The following additional packages will be installed:\n",
            "  libxtst6 openjdk-8-jre-headless\n",
            "Suggested packages:\n",
            "  openjdk-8-demo openjdk-8-source libnss-mdns fonts-dejavu-extra fonts-nanum fonts-ipafont-gothic\n",
            "  fonts-ipafont-mincho fonts-wqy-microhei fonts-wqy-zenhei fonts-indic\n",
            "The following NEW packages will be installed:\n",
            "  libxtst6 openjdk-8-jdk-headless openjdk-8-jre-headless\n",
            "0 upgraded, 3 newly installed, 0 to remove and 49 not upgraded.\n",
            "Need to get 39.7 MB of archives.\n",
            "After this operation, 144 MB of additional disk space will be used.\n",
            "Selecting previously unselected package libxtst6:amd64.\n",
            "(Reading database ... 123630 files and directories currently installed.)\n",
            "Preparing to unpack .../libxtst6_2%3a1.2.3-1build4_amd64.deb ...\n",
            "Unpacking libxtst6:amd64 (2:1.2.3-1build4) ...\n",
            "Selecting previously unselected package openjdk-8-jre-headless:amd64.\n",
            "Preparing to unpack .../openjdk-8-jre-headless_8u432-ga~us1-0ubuntu2~22.04_amd64.deb ...\n",
            "Unpacking openjdk-8-jre-headless:amd64 (8u432-ga~us1-0ubuntu2~22.04) ...\n",
            "Selecting previously unselected package openjdk-8-jdk-headless:amd64.\n",
            "Preparing to unpack .../openjdk-8-jdk-headless_8u432-ga~us1-0ubuntu2~22.04_amd64.deb ...\n",
            "Unpacking openjdk-8-jdk-headless:amd64 (8u432-ga~us1-0ubuntu2~22.04) ...\n",
            "Setting up libxtst6:amd64 (2:1.2.3-1build4) ...\n",
            "Setting up openjdk-8-jre-headless:amd64 (8u432-ga~us1-0ubuntu2~22.04) ...\n",
            "update-alternatives: using /usr/lib/jvm/java-8-openjdk-amd64/jre/bin/orbd to provide /usr/bin/orbd (orbd) in auto mode\n",
            "update-alternatives: using /usr/lib/jvm/java-8-openjdk-amd64/jre/bin/servertool to provide /usr/bin/servertool (servertool) in auto mode\n",
            "update-alternatives: using /usr/lib/jvm/java-8-openjdk-amd64/jre/bin/tnameserv to provide /usr/bin/tnameserv (tnameserv) in auto mode\n",
            "Setting up openjdk-8-jdk-headless:amd64 (8u432-ga~us1-0ubuntu2~22.04) ...\n",
            "update-alternatives: using /usr/lib/jvm/java-8-openjdk-amd64/bin/clhsdb to provide /usr/bin/clhsdb (clhsdb) in auto mode\n",
            "update-alternatives: using /usr/lib/jvm/java-8-openjdk-amd64/bin/extcheck to provide /usr/bin/extcheck (extcheck) in auto mode\n",
            "update-alternatives: using /usr/lib/jvm/java-8-openjdk-amd64/bin/hsdb to provide /usr/bin/hsdb (hsdb) in auto mode\n",
            "update-alternatives: using /usr/lib/jvm/java-8-openjdk-amd64/bin/idlj to provide /usr/bin/idlj (idlj) in auto mode\n",
            "update-alternatives: using /usr/lib/jvm/java-8-openjdk-amd64/bin/javah to provide /usr/bin/javah (javah) in auto mode\n",
            "update-alternatives: using /usr/lib/jvm/java-8-openjdk-amd64/bin/jhat to provide /usr/bin/jhat (jhat) in auto mode\n",
            "update-alternatives: using /usr/lib/jvm/java-8-openjdk-amd64/bin/jsadebugd to provide /usr/bin/jsadebugd (jsadebugd) in auto mode\n",
            "update-alternatives: using /usr/lib/jvm/java-8-openjdk-amd64/bin/native2ascii to provide /usr/bin/native2ascii (native2ascii) in auto mode\n",
            "update-alternatives: using /usr/lib/jvm/java-8-openjdk-amd64/bin/schemagen to provide /usr/bin/schemagen (schemagen) in auto mode\n",
            "update-alternatives: using /usr/lib/jvm/java-8-openjdk-amd64/bin/wsgen to provide /usr/bin/wsgen (wsgen) in auto mode\n",
            "update-alternatives: using /usr/lib/jvm/java-8-openjdk-amd64/bin/wsimport to provide /usr/bin/wsimport (wsimport) in auto mode\n",
            "update-alternatives: using /usr/lib/jvm/java-8-openjdk-amd64/bin/xjc to provide /usr/bin/xjc (xjc) in auto mode\n",
            "Processing triggers for libc-bin (2.35-0ubuntu3.4) ...\n",
            "/sbin/ldconfig.real: /usr/local/lib/libtbb.so.12 is not a symbolic link\n",
            "\n",
            "/sbin/ldconfig.real: /usr/local/lib/libumf.so.0 is not a symbolic link\n",
            "\n",
            "/sbin/ldconfig.real: /usr/local/lib/libtbbmalloc.so.2 is not a symbolic link\n",
            "\n",
            "/sbin/ldconfig.real: /usr/local/lib/libur_loader.so.0 is not a symbolic link\n",
            "\n",
            "/sbin/ldconfig.real: /usr/local/lib/libtbbbind_2_5.so.3 is not a symbolic link\n",
            "\n",
            "/sbin/ldconfig.real: /usr/local/lib/libtcm_debug.so.1 is not a symbolic link\n",
            "\n",
            "/sbin/ldconfig.real: /usr/local/lib/libur_adapter_level_zero.so.0 is not a symbolic link\n",
            "\n",
            "/sbin/ldconfig.real: /usr/local/lib/libur_adapter_opencl.so.0 is not a symbolic link\n",
            "\n",
            "/sbin/ldconfig.real: /usr/local/lib/libtbbbind_2_0.so.3 is not a symbolic link\n",
            "\n",
            "/sbin/ldconfig.real: /usr/local/lib/libtbbmalloc_proxy.so.2 is not a symbolic link\n",
            "\n",
            "/sbin/ldconfig.real: /usr/local/lib/libtcm.so.1 is not a symbolic link\n",
            "\n",
            "/sbin/ldconfig.real: /usr/local/lib/libtbbbind.so.3 is not a symbolic link\n",
            "\n",
            "/sbin/ldconfig.real: /usr/local/lib/libhwloc.so.15 is not a symbolic link\n",
            "\n"
          ]
        }
      ]
    },
    {
      "cell_type": "markdown",
      "metadata": {
        "id": "ctU1dYjfOif7"
      },
      "source": [
        "Now we authenticate a Google Drive client to download the file we will be processing in our Spark job.\n",
        "\n",
        "**Make sure to follow the interactive instructions.**"
      ]
    },
    {
      "cell_type": "code",
      "metadata": {
        "id": "1dfnX7IAOkvH"
      },
      "source": [
        "from pydrive2.auth import GoogleAuth\n",
        "from pydrive2.drive import GoogleDrive\n",
        "from google.colab import auth\n",
        "from oauth2client.client import GoogleCredentials\n",
        "\n",
        "# Authenticate and create the PyDrive client\n",
        "auth.authenticate_user()\n",
        "gauth = GoogleAuth()\n",
        "gauth.credentials = GoogleCredentials.get_application_default()\n",
        "drive = GoogleDrive(gauth)"
      ],
      "execution_count": null,
      "outputs": []
    },
    {
      "cell_type": "code",
      "metadata": {
        "id": "UF5nuSdyTJpc"
      },
      "source": [
        "id='1L6pCQkldvdBoaEhRFzL0VnrggEFvqON4'\n",
        "downloaded = drive.CreateFile({'id': id})\n",
        "downloaded.GetContentFile('Bombing_Operations.json.gz')\n",
        "\n",
        "id='14dyBmcTBA32uXPxDbqr0bFDIzGxMTWwl'\n",
        "downloaded = drive.CreateFile({'id': id})\n",
        "downloaded.GetContentFile('Aircraft_Glossary.json.gz')"
      ],
      "execution_count": null,
      "outputs": []
    },
    {
      "cell_type": "markdown",
      "metadata": {
        "id": "wA49WWqmO5rR"
      },
      "source": [
        "If you executed the cells above, you should be able to see the files *Bombing_Operations.json.gz* and *Aircraft_Glossary.json.gz* under the \"Files\" tab on the left panel."
      ]
    },
    {
      "cell_type": "code",
      "metadata": {
        "id": "xgQaRx6rSaf9"
      },
      "source": [
        "# Let's import the libraries we will need\n",
        "import pandas as pd\n",
        "import numpy as np\n",
        "import matplotlib.pyplot as plt\n",
        "%matplotlib inline\n",
        "\n",
        "import pyspark\n",
        "from pyspark.sql import *\n",
        "from pyspark.sql.functions import *\n",
        "from pyspark import SparkContext, SparkConf"
      ],
      "execution_count": null,
      "outputs": []
    },
    {
      "cell_type": "code",
      "metadata": {
        "colab": {
          "base_uri": "https://localhost:8080/"
        },
        "id": "ha6y2tGSM4HS",
        "outputId": "35ddd80b-bdf6-4ba2-c20b-5f5cba2072c7"
      },
      "source": [
        "from google.colab import drive\n",
        "drive.mount('/content/drive')"
      ],
      "execution_count": null,
      "outputs": [
        {
          "output_type": "stream",
          "name": "stdout",
          "text": [
            "Mounted at /content/drive\n"
          ]
        }
      ]
    },
    {
      "cell_type": "markdown",
      "metadata": {
        "id": "uUD5XpD_SagA"
      },
      "source": [
        "Let's initialize the Spark context.\n"
      ]
    },
    {
      "cell_type": "code",
      "metadata": {
        "id": "7ft3VivrSagB"
      },
      "source": [
        "# create the session\n",
        "conf = SparkConf().set(\"spark.ui.port\", \"4050\")\n",
        "\n",
        "# create the context\n",
        "sc = pyspark.SparkContext(conf=conf)\n",
        "spark = SparkSession.builder.getOrCreate()"
      ],
      "execution_count": null,
      "outputs": []
    },
    {
      "cell_type": "markdown",
      "metadata": {
        "id": "-n20ixkgSagD"
      },
      "source": [
        "You can easily check the current version and get the link of the web interface. In the Spark UI, you can monitor the progress of your job and debug the performance bottlenecks (if your Colab is running with a **local runtime**)."
      ]
    },
    {
      "cell_type": "code",
      "metadata": {
        "id": "Fl4RHbqFSagE",
        "colab": {
          "base_uri": "https://localhost:8080/",
          "height": 219
        },
        "outputId": "cdba7dbd-5424-43ce-da6f-7564b97fc979"
      },
      "source": [
        "spark"
      ],
      "execution_count": null,
      "outputs": [
        {
          "output_type": "execute_result",
          "data": {
            "text/plain": [
              "<pyspark.sql.session.SparkSession at 0x7eaae54da140>"
            ],
            "text/html": [
              "\n",
              "            <div>\n",
              "                <p><b>SparkSession - in-memory</b></p>\n",
              "                \n",
              "        <div>\n",
              "            <p><b>SparkContext</b></p>\n",
              "\n",
              "            <p><a href=\"http://f81477b3f9a5:4050\">Spark UI</a></p>\n",
              "\n",
              "            <dl>\n",
              "              <dt>Version</dt>\n",
              "                <dd><code>v3.5.3</code></dd>\n",
              "              <dt>Master</dt>\n",
              "                <dd><code>local[*]</code></dd>\n",
              "              <dt>AppName</dt>\n",
              "                <dd><code>pyspark-shell</code></dd>\n",
              "            </dl>\n",
              "        </div>\n",
              "        \n",
              "            </div>\n",
              "        "
            ]
          },
          "metadata": {},
          "execution_count": 8
        }
      ]
    },
    {
      "cell_type": "markdown",
      "metadata": {
        "id": "xlw1Mgx0T9-l"
      },
      "source": [
        "If you are running this Colab on the Google hosted runtime, the cell below will create a *ngrok* tunnel which will allow you to still check the Spark UI."
      ]
    },
    {
      "cell_type": "code",
      "metadata": {
        "id": "cYYlUTWYQMjb",
        "colab": {
          "base_uri": "https://localhost:8080/"
        },
        "outputId": "4978c961-382f-4ef9-aa7a-7dcf8a171257"
      },
      "source": [
        "!wget https://bin.equinox.io/c/4VmDzA7iaHb/ngrok-stable-linux-amd64.zip\n",
        "!unzip ngrok-stable-linux-amd64.zip\n",
        "get_ipython().system_raw('./ngrok http 4050 &')\n",
        "!curl -s http://localhost:4040/api/tunnels | python3 -c \\\n",
        "    \"import sys, json; print(json.load(sys.stdin)['tunnels'][0]['public_url'])\""
      ],
      "execution_count": null,
      "outputs": [
        {
          "output_type": "stream",
          "name": "stdout",
          "text": [
            "--2024-11-28 02:46:28--  https://bin.equinox.io/c/4VmDzA7iaHb/ngrok-stable-linux-amd64.zip\n",
            "Resolving bin.equinox.io (bin.equinox.io)... 35.71.179.82, 75.2.60.68, 99.83.220.108, ...\n",
            "Connecting to bin.equinox.io (bin.equinox.io)|35.71.179.82|:443... connected.\n",
            "HTTP request sent, awaiting response... 200 OK\n",
            "Length: 13921656 (13M) [application/octet-stream]\n",
            "Saving to: ‘ngrok-stable-linux-amd64.zip’\n",
            "\n",
            "ngrok-stable-linux- 100%[===================>]  13.28M  21.7MB/s    in 0.6s    \n",
            "\n",
            "2024-11-28 02:46:29 (21.7 MB/s) - ‘ngrok-stable-linux-amd64.zip’ saved [13921656/13921656]\n",
            "\n",
            "Archive:  ngrok-stable-linux-amd64.zip\n",
            "  inflating: ngrok                   \n",
            "Traceback (most recent call last):\n",
            "  File \"<string>\", line 1, in <module>\n",
            "IndexError: list index out of range\n"
          ]
        }
      ]
    },
    {
      "cell_type": "markdown",
      "metadata": {
        "id": "gewv-lKMSagI"
      },
      "source": [
        "# Vietnam War\n",
        "\n",
        "**Pres. Johnson**: _What do you think about this Vietnam thing? I’d like to hear you talk a little bit._\n",
        "\n",
        "**Sen. Russell**: _Well, frankly, Mr. President, it’s the damn worse mess that I ever saw, and I don’t like to brag and I never have been right many times in my life, but I knew that we were going to get into this sort of mess when we went in there._\n",
        "\n",
        "May 27, 1964\n",
        "\n",
        "![banner](https://raw.githubusercontent.com/epfl-ada/2019/c17af0d3c73f11cb083717b7408fedd86245dc4d/Tutorials/04%20-%20Scaling%20Up/img/banner.jpg)"
      ]
    },
    {
      "cell_type": "markdown",
      "metadata": {
        "id": "skjUv84VSagJ"
      },
      "source": [
        "----\n",
        "\n",
        "The Vietnam War, also known as the Second Indochina War, and in Vietnam as the Resistance War Against America or simply the American War, was a conflict that occurred in Vietnam, Laos, and Cambodia from 1 November 1955 to the fall of Saigon on 30 April 1975. It was the second of the Indochina Wars and was officially fought between North Vietnam and the government of South Vietnam.\n",
        "\n",
        "**The dataset describes all the air force operation in during the Vietnam War.**\n",
        "\n",
        "**Bombing_Operations** [Get the dataset here](https://drive.google.com/a/epfl.ch/file/d/1L6pCQkldvdBoaEhRFzL0VnrggEFvqON4/view?usp=sharing)\n",
        "\n",
        "- AirCraft: _Aircraft model (example: EC-47)_\n",
        "- ContryFlyingMission: _Country_\n",
        "- MissionDate: _Date of the mission_\n",
        "- OperationSupported: _Supported War operation_ (example: [Operation Rolling Thunder](https://en.wikipedia.org/wiki/Operation_Rolling_Thunder))\n",
        "- PeriodOfDay: _Day or night_\n",
        "- TakeoffLocation: _Take off airport_\n",
        "- TimeOnTarget\n",
        "- WeaponType\n",
        "- WeaponsLoadedWeight\n",
        "\n",
        "**Aircraft_Glossary** [Get the dataset here](https://drive.google.com/a/epfl.ch/file/d/14dyBmcTBA32uXPxDbqr0bFDIzGxMTWwl/view?usp=sharing)\n",
        "\n",
        "- AirCraft: _Aircraft model (example: EC-47)_\n",
        "- AirCraftName\n",
        "- AirCraftType\n",
        "\n",
        "**Dataset Information:**\n",
        "\n",
        "THOR is a painstakingly cultivated database of historic aerial bombings from World War I through Vietnam. THOR has already proven useful in finding unexploded ordnance in Southeast Asia and improving Air Force combat tactics:\n",
        "https://www.kaggle.com/usaf/vietnam-war-bombing-operations"
      ]
    },
    {
      "cell_type": "markdown",
      "metadata": {
        "id": "VSWoULeWSagJ"
      },
      "source": [
        "Load the datasets:"
      ]
    },
    {
      "cell_type": "code",
      "metadata": {
        "id": "XLyVPuLXSagK"
      },
      "source": [
        "Bombing_Operations = spark.read.json(\"Bombing_Operations.json.gz\")\n",
        "Aircraft_Glossary = spark.read.json(\"Aircraft_Glossary.json.gz\")"
      ],
      "execution_count": null,
      "outputs": []
    },
    {
      "cell_type": "markdown",
      "metadata": {
        "id": "KOsfr2_XN1N1"
      },
      "source": [
        "##If you complete upto this point, raise your hand\n",
        "\n",
        "##then execute the following line in the next code cell"
      ]
    },
    {
      "cell_type": "markdown",
      "metadata": {
        "id": "f18ThJVqNmin"
      },
      "source": [
        "##Showing the schema"
      ]
    },
    {
      "cell_type": "code",
      "metadata": {
        "colab": {
          "base_uri": "https://localhost:8080/"
        },
        "id": "HVDrREM_NmJt",
        "outputId": "7623e3ce-1e13-4144-efc4-9e5a6474c209"
      },
      "source": [
        "Bombing_Operations.printSchema()"
      ],
      "execution_count": null,
      "outputs": [
        {
          "output_type": "stream",
          "name": "stdout",
          "text": [
            "root\n",
            " |-- AirCraft: string (nullable = true)\n",
            " |-- ContryFlyingMission: string (nullable = true)\n",
            " |-- MissionDate: string (nullable = true)\n",
            " |-- OperationSupported: string (nullable = true)\n",
            " |-- PeriodOfDay: string (nullable = true)\n",
            " |-- TakeoffLocation: string (nullable = true)\n",
            " |-- TargetCountry: string (nullable = true)\n",
            " |-- TimeOnTarget: double (nullable = true)\n",
            " |-- WeaponType: string (nullable = true)\n",
            " |-- WeaponsLoadedWeight: long (nullable = true)\n",
            "\n"
          ]
        }
      ]
    },
    {
      "cell_type": "code",
      "metadata": {
        "colab": {
          "base_uri": "https://localhost:8080/"
        },
        "id": "PgFh5O-WSfjf",
        "outputId": "b1707880-2a84-4095-a447-ad986b185af3"
      },
      "source": [
        "Aircraft_Glossary.printSchema()"
      ],
      "execution_count": null,
      "outputs": [
        {
          "output_type": "stream",
          "name": "stdout",
          "text": [
            "root\n",
            " |-- AirCraft: string (nullable = true)\n",
            " |-- AirCraftName: string (nullable = true)\n",
            " |-- AirCraftType: string (nullable = true)\n",
            "\n"
          ]
        }
      ]
    },
    {
      "cell_type": "markdown",
      "metadata": {
        "id": "4E6pGiP_ONA1"
      },
      "source": [
        "##The following line shows the formatted output from json file\n",
        "\n",
        "##Complete upto this. I will be back soon."
      ]
    },
    {
      "cell_type": "code",
      "metadata": {
        "colab": {
          "base_uri": "https://localhost:8080/"
        },
        "id": "YphGOMrJOJS_",
        "outputId": "8800e135-0710-48c9-db92-cdb512a88659"
      },
      "source": [
        "Bombing_Operations.show()"
      ],
      "execution_count": null,
      "outputs": [
        {
          "output_type": "stream",
          "name": "stdout",
          "text": [
            "+--------+--------------------+-----------+------------------+-----------+---------------+-------------+------------+--------------------+-------------------+\n",
            "|AirCraft| ContryFlyingMission|MissionDate|OperationSupported|PeriodOfDay|TakeoffLocation|TargetCountry|TimeOnTarget|          WeaponType|WeaponsLoadedWeight|\n",
            "+--------+--------------------+-----------+------------------+-----------+---------------+-------------+------------+--------------------+-------------------+\n",
            "|   EC-47|UNITED STATES OF ...| 1971-06-05|              NULL|          D|   TAN SON NHUT|     CAMBODIA|      1005.0|                NULL|                  0|\n",
            "|   EC-47|UNITED STATES OF ...| 1972-12-26|              NULL|          D|  NAKHON PHANOM|SOUTH VIETNAM|       530.0|                NULL|                  0|\n",
            "|    RF-4|UNITED STATES OF ...| 1973-07-28|              NULL|          D|       UDORN AB|         LAOS|       730.0|                NULL|                  0|\n",
            "|     A-1|UNITED STATES OF ...| 1970-02-02|              NULL|          N|  NAKHON PHANOM|         LAOS|      1415.0|BLU27 FIRE BOMB (...|              17400|\n",
            "|    A-37|     VIETNAM (SOUTH)| 1970-10-08|              NULL|          D|         DANANG|SOUTH VIETNAM|      1240.0|                NULL|                  0|\n",
            "|     F-4|UNITED STATES OF ...| 1970-11-25|              NULL|          D|        UBON AB|         LAOS|       650.0|MK 82 GP BOMB (50...|              31860|\n",
            "|     A-4|UNITED STATES OF ...| 1972-03-08|              NULL|          D|    TONKIN GULF|         LAOS|      1005.0|                NULL|                  0|\n",
            "|     F-4|UNITED STATES OF ...| 1971-12-27|              NULL|       NULL|       UDORN AB|         LAOS|         0.0|                NULL|                  0|\n",
            "|     A-7|UNITED STATES OF ...| 1972-05-24|              NULL|       NULL|    TONKIN GULF|NORTH VIETNAM|         0.0|                NULL|                  0|\n",
            "|   EC-47|UNITED STATES OF ...| 1972-09-12|              NULL|          D|   TAN SON NHUT|SOUTH VIETNAM|       710.0|                NULL|                  0|\n",
            "|   CH-53|UNITED STATES OF ...| 1974-06-13|              NULL|          N|  NAKHON PHANOM|     THAILAND|      1800.0|                NULL|                  0|\n",
            "|   CH-53|UNITED STATES OF ...| 1974-12-19|              NULL|          D|  NAKHON PHANOM|     THAILAND|       800.0|                NULL|                  0|\n",
            "|     O-1|     VIETNAM (SOUTH)| 1973-10-24|              NULL|          D|      NHA TRANG|SOUTH VIETNAM|       800.0|                NULL|                  0|\n",
            "|    UH-1|     VIETNAM (SOUTH)| 1974-03-19|              NULL|          D|        PHU CAT|SOUTH VIETNAM|       800.0|        CARGO (TONS)|                  0|\n",
            "|     C-7|UNITED STATES OF ...| 1970-05-08|              NULL|          D|   TAN SON NHUT|SOUTH VIETNAM|       800.0|                NULL|                  0|\n",
            "|     A-6|UNITED STATES OF ...| 1971-05-12|              NULL|          N|    TONKIN GULF|         LAOS|      1304.0|CBU24 AN PR/MT (B...|              33200|\n",
            "|   EB-66|UNITED STATES OF ...| 1971-12-03|              NULL|          N|          KORAT|         LAOS|      1445.0|                NULL|                  0|\n",
            "|    T-28|                LAOS| 1971-12-19|              NULL|          D|     SAVANAKHET|         LAOS|       230.0|                NULL|                  0|\n",
            "|     A-6|UNITED STATES OF ...| 1972-08-18|              NULL|       NULL|    TONKIN GULF|NORTH VIETNAM|         0.0|                NULL|                  0|\n",
            "|     A-7|UNITED STATES OF ...| 1972-10-15|              NULL|          D|    TONKIN GULF|NORTH VIETNAM|       110.0|                NULL|                  0|\n",
            "+--------+--------------------+-----------+------------------+-----------+---------------+-------------+------------+--------------------+-------------------+\n",
            "only showing top 20 rows\n",
            "\n"
          ]
        }
      ]
    },
    {
      "cell_type": "code",
      "metadata": {
        "colab": {
          "base_uri": "https://localhost:8080/"
        },
        "id": "ARqbMtdLS0pG",
        "outputId": "6fa9ddae-fafe-496d-fe48-bf75f133ab74"
      },
      "source": [
        "Aircraft_Glossary.show()"
      ],
      "execution_count": null,
      "outputs": [
        {
          "output_type": "stream",
          "name": "stdout",
          "text": [
            "+--------+--------------------+--------------------+\n",
            "|AirCraft|        AirCraftName|        AirCraftType|\n",
            "+--------+--------------------+--------------------+\n",
            "|     A-1|Douglas A-1 Skyra...|         Fighter Jet|\n",
            "|    A-26|Douglas A-26 Invader|        Light Bomber|\n",
            "|    A-37|Cessna A-37 Drago...|Light ground-atta...|\n",
            "|     A-4|McDonnell Douglas...|         Fighter Jet|\n",
            "|     A-5|North American A-...|          Bomber Jet|\n",
            "|     A-6|Grumman A-6 Intruder|     Attack Aircraft|\n",
            "|     A-7|  LTV A-7 Corsair II|     Attack Aircraft|\n",
            "|  AC-119|Fairchild AC-119 ...|Military Transpor...|\n",
            "|  AC-123|Fairchild C-123 P...|Military Transpor...|\n",
            "|  AC-130|Lockheed AC-130 S...|Fixed wing ground...|\n",
            "|   AC-47|Douglas AC-47 Spooky|Ground attack air...|\n",
            "|    AH-1| Bell AH-1 HueyCobra|          Helicopter|\n",
            "|     B-1| Rockwell B-1 Lancer|Heavy strategic b...|\n",
            "|    B-52| B-52 Stratofortress|    Strategic bomber|\n",
            "|    B-57|Martin B-57 Canberra|     Tactical Bomber|\n",
            "|    B-66|Douglas B-66 Dest...|        Light Bomber|\n",
            "|     C-1| Grumman C-1A Trader|           Transport|\n",
            "|   C-117|     C-117D Skytrain|           Transport|\n",
            "|   C-119|Fairchild C-119 F...|Military Transpor...|\n",
            "|   C-123|Fairchild C-123 P...|Military Transpor...|\n",
            "+--------+--------------------+--------------------+\n",
            "only showing top 20 rows\n",
            "\n"
          ]
        }
      ]
    },
    {
      "cell_type": "code",
      "metadata": {
        "colab": {
          "base_uri": "https://localhost:8080/"
        },
        "id": "Ohqo0HC2VxtO",
        "outputId": "274f566c-4251-445a-c69d-008ee2ca0443"
      },
      "source": [
        "Aircraft_Glossary.take(5)"
      ],
      "execution_count": null,
      "outputs": [
        {
          "output_type": "execute_result",
          "data": {
            "text/plain": [
              "[Row(AirCraft='A-1', AirCraftName='Douglas A-1 Skyraider', AirCraftType='Fighter Jet'),\n",
              " Row(AirCraft='A-26', AirCraftName='Douglas A-26 Invader', AirCraftType='Light Bomber'),\n",
              " Row(AirCraft='A-37', AirCraftName='Cessna A-37 Dragonfly', AirCraftType='Light ground-attack aircraft'),\n",
              " Row(AirCraft='A-4', AirCraftName='McDonnell Douglas A-4 Skyhawk', AirCraftType='Fighter Jet'),\n",
              " Row(AirCraft='A-5', AirCraftName='North American A-5 Vigilante', AirCraftType='Bomber Jet')]"
            ]
          },
          "metadata": {},
          "execution_count": 15
        }
      ]
    },
    {
      "cell_type": "markdown",
      "metadata": {
        "id": "qSZMa2zaV_Zn"
      },
      "source": [
        "##Projecting columns"
      ]
    },
    {
      "cell_type": "code",
      "metadata": {
        "colab": {
          "base_uri": "https://localhost:8080/"
        },
        "id": "k1TqP1XaVzxW",
        "outputId": "001f3561-e1c8-4a4f-bcd6-a204f3b7304e"
      },
      "source": [
        "Aircraft_Glossary.select(\"AirCraft\",\"AirCraftname\").show()"
      ],
      "execution_count": null,
      "outputs": [
        {
          "output_type": "stream",
          "name": "stdout",
          "text": [
            "+--------+--------------------+\n",
            "|AirCraft|        AirCraftname|\n",
            "+--------+--------------------+\n",
            "|     A-1|Douglas A-1 Skyra...|\n",
            "|    A-26|Douglas A-26 Invader|\n",
            "|    A-37|Cessna A-37 Drago...|\n",
            "|     A-4|McDonnell Douglas...|\n",
            "|     A-5|North American A-...|\n",
            "|     A-6|Grumman A-6 Intruder|\n",
            "|     A-7|  LTV A-7 Corsair II|\n",
            "|  AC-119|Fairchild AC-119 ...|\n",
            "|  AC-123|Fairchild C-123 P...|\n",
            "|  AC-130|Lockheed AC-130 S...|\n",
            "|   AC-47|Douglas AC-47 Spooky|\n",
            "|    AH-1| Bell AH-1 HueyCobra|\n",
            "|     B-1| Rockwell B-1 Lancer|\n",
            "|    B-52| B-52 Stratofortress|\n",
            "|    B-57|Martin B-57 Canberra|\n",
            "|    B-66|Douglas B-66 Dest...|\n",
            "|     C-1| Grumman C-1A Trader|\n",
            "|   C-117|     C-117D Skytrain|\n",
            "|   C-119|Fairchild C-119 F...|\n",
            "|   C-123|Fairchild C-123 P...|\n",
            "+--------+--------------------+\n",
            "only showing top 20 rows\n",
            "\n"
          ]
        }
      ]
    },
    {
      "cell_type": "markdown",
      "metadata": {
        "id": "Zi0LEB86WZwe"
      },
      "source": [
        "##Selecting Tuples (where clause in SQL)"
      ]
    },
    {
      "cell_type": "code",
      "metadata": {
        "colab": {
          "base_uri": "https://localhost:8080/"
        },
        "id": "oYzfY5pCWfX4",
        "outputId": "de5b5e60-d30e-4862-8819-318260358f69"
      },
      "source": [
        "Aircraft_Glossary.where(Aircraft_Glossary.AirCraft==\"A-1\").show()"
      ],
      "execution_count": null,
      "outputs": [
        {
          "output_type": "stream",
          "name": "stdout",
          "text": [
            "+--------+--------------------+------------+\n",
            "|AirCraft|        AirCraftName|AirCraftType|\n",
            "+--------+--------------------+------------+\n",
            "|     A-1|Douglas A-1 Skyra...| Fighter Jet|\n",
            "+--------+--------------------+------------+\n",
            "\n"
          ]
        }
      ]
    },
    {
      "cell_type": "code",
      "source": [
        "df_a_1= Bombing_Operations.where(\"Aircraft=='A-1'\").show()"
      ],
      "metadata": {
        "colab": {
          "base_uri": "https://localhost:8080/"
        },
        "id": "yWDRmvjHuiRn",
        "outputId": "51dc58ec-2f51-474a-a1cf-a44716effc06"
      },
      "execution_count": null,
      "outputs": [
        {
          "output_type": "stream",
          "name": "stdout",
          "text": [
            "+--------+--------------------+-----------+------------------+-----------+---------------+-------------+------------+--------------------+-------------------+\n",
            "|AirCraft| ContryFlyingMission|MissionDate|OperationSupported|PeriodOfDay|TakeoffLocation|TargetCountry|TimeOnTarget|          WeaponType|WeaponsLoadedWeight|\n",
            "+--------+--------------------+-----------+------------------+-----------+---------------+-------------+------------+--------------------+-------------------+\n",
            "|     A-1|UNITED STATES OF ...| 1970-02-02|              NULL|          N|  NAKHON PHANOM|         LAOS|      1415.0|BLU27 FIRE BOMB (...|              17400|\n",
            "|     A-1|     VIETNAM (SOUTH)| 1972-04-29|              NULL|          D|       BIEN HOA|SOUTH VIETNAM|       700.0|                NULL|              84960|\n",
            "|     A-1|     VIETNAM (SOUTH)| 1972-08-02|              NULL|       NULL|       BIEN HOA|SOUTH VIETNAM|         0.0|                NULL|                  0|\n",
            "|     A-1|     VIETNAM (SOUTH)| 1970-04-27|              NULL|          D|       BIEN HOA|SOUTH VIETNAM|       800.0|                NULL|              77580|\n",
            "|     A-1|     VIETNAM (SOUTH)| 1971-07-29|              NULL|          D|         PLEIKU|SOUTH VIETNAM|      1020.0|                NULL|                  0|\n",
            "|     A-1|UNITED STATES OF ...| 1970-05-19|              NULL|          D|  NAKHON PHANOM|         LAOS|      1000.0|CBU25 AN PR/MT (B...|              31680|\n",
            "|     A-1|UNITED STATES OF ...| 1970-07-04|              NULL|          D|         DANANG|         LAOS|       705.0|                NULL|                  0|\n",
            "|     A-1|     VIETNAM (SOUTH)| 1972-06-16|              NULL|          D|       BIEN HOA|SOUTH VIETNAM|       120.0|                NULL|              10560|\n",
            "|     A-1|UNITED STATES OF ...| 1970-04-08|              NULL|          D|  NAKHON PHANOM|         LAOS|        25.0|M1A4 FRAG BOMB CL...|              10000|\n",
            "|     A-1|     VIETNAM (SOUTH)| 1971-12-06|              NULL|          D|       BIEN HOA|SOUTH VIETNAM|       550.0|                NULL|              31860|\n",
            "|     A-1|     VIETNAM (SOUTH)| 1971-05-07|              NULL|          D|       BIEN HOA|     CAMBODIA|       300.0|                NULL|                  0|\n",
            "|     A-1|     VIETNAM (SOUTH)| 1972-10-05|              NULL|          D|       BIEN HOA|SOUTH VIETNAM|       148.0|BLU32B FIRE BOMB ...|              30000|\n",
            "|     A-1|     VIETNAM (SOUTH)| 1972-02-18|              NULL|          D|   TAN SON NHUT|     CAMBODIA|       120.0|                NULL|              84960|\n",
            "|     A-1|UNITED STATES OF ...| 1971-01-03|              NULL|       NULL|  NAKHON PHANOM|         LAOS|         0.0|                NULL|                  0|\n",
            "|     A-1|     VIETNAM (SOUTH)| 1971-04-05|              NULL|          D|       BIEN HOA|     CAMBODIA|       210.0|                NULL|                  0|\n",
            "|     A-1|     VIETNAM (SOUTH)| 1970-09-01|              NULL|          D|       BIEN HOA|     CAMBODIA|       250.0|                NULL|                  0|\n",
            "|     A-1|     VIETNAM (SOUTH)| 1972-09-13|              NULL|          D|         PLEIKU|SOUTH VIETNAM|       415.0|                NULL|                  0|\n",
            "|     A-1|     VIETNAM (SOUTH)| 1972-07-28|              NULL|       NULL|       BIEN HOA|SOUTH VIETNAM|         0.0|                NULL|                  0|\n",
            "|     A-1|     VIETNAM (SOUTH)| 1973-12-11|              NULL|          D|       BIEN HOA|SOUTH VIETNAM|       800.0|MK 82 GP BOMB (50...|             743400|\n",
            "|     A-1|UNITED STATES OF ...| 1972-05-07|              NULL|       NULL|  NAKHON PHANOM|         LAOS|         0.0|                NULL|                  0|\n",
            "+--------+--------------------+-----------+------------------+-----------+---------------+-------------+------------+--------------------+-------------------+\n",
            "only showing top 20 rows\n",
            "\n"
          ]
        }
      ]
    },
    {
      "cell_type": "code",
      "source": [
        "df_a_1= Bombing_Operations.where(\"Aircraft=='A-1'\")"
      ],
      "metadata": {
        "id": "3BFnzKURvJRQ"
      },
      "execution_count": null,
      "outputs": []
    },
    {
      "cell_type": "code",
      "source": [
        "df_a_1.show()"
      ],
      "metadata": {
        "colab": {
          "base_uri": "https://localhost:8080/"
        },
        "id": "p18w9UIRvNz3",
        "outputId": "66b00a32-147b-4bd7-9de6-5184d884f9e0"
      },
      "execution_count": null,
      "outputs": [
        {
          "output_type": "stream",
          "name": "stdout",
          "text": [
            "+--------+--------------------+-----------+------------------+-----------+---------------+-------------+------------+--------------------+-------------------+\n",
            "|AirCraft| ContryFlyingMission|MissionDate|OperationSupported|PeriodOfDay|TakeoffLocation|TargetCountry|TimeOnTarget|          WeaponType|WeaponsLoadedWeight|\n",
            "+--------+--------------------+-----------+------------------+-----------+---------------+-------------+------------+--------------------+-------------------+\n",
            "|     A-1|UNITED STATES OF ...| 1970-02-02|              NULL|          N|  NAKHON PHANOM|         LAOS|      1415.0|BLU27 FIRE BOMB (...|              17400|\n",
            "|     A-1|     VIETNAM (SOUTH)| 1972-04-29|              NULL|          D|       BIEN HOA|SOUTH VIETNAM|       700.0|                NULL|              84960|\n",
            "|     A-1|     VIETNAM (SOUTH)| 1972-08-02|              NULL|       NULL|       BIEN HOA|SOUTH VIETNAM|         0.0|                NULL|                  0|\n",
            "|     A-1|     VIETNAM (SOUTH)| 1970-04-27|              NULL|          D|       BIEN HOA|SOUTH VIETNAM|       800.0|                NULL|              77580|\n",
            "|     A-1|     VIETNAM (SOUTH)| 1971-07-29|              NULL|          D|         PLEIKU|SOUTH VIETNAM|      1020.0|                NULL|                  0|\n",
            "|     A-1|UNITED STATES OF ...| 1970-05-19|              NULL|          D|  NAKHON PHANOM|         LAOS|      1000.0|CBU25 AN PR/MT (B...|              31680|\n",
            "|     A-1|UNITED STATES OF ...| 1970-07-04|              NULL|          D|         DANANG|         LAOS|       705.0|                NULL|                  0|\n",
            "|     A-1|     VIETNAM (SOUTH)| 1972-06-16|              NULL|          D|       BIEN HOA|SOUTH VIETNAM|       120.0|                NULL|              10560|\n",
            "|     A-1|UNITED STATES OF ...| 1970-04-08|              NULL|          D|  NAKHON PHANOM|         LAOS|        25.0|M1A4 FRAG BOMB CL...|              10000|\n",
            "|     A-1|     VIETNAM (SOUTH)| 1971-12-06|              NULL|          D|       BIEN HOA|SOUTH VIETNAM|       550.0|                NULL|              31860|\n",
            "|     A-1|     VIETNAM (SOUTH)| 1971-05-07|              NULL|          D|       BIEN HOA|     CAMBODIA|       300.0|                NULL|                  0|\n",
            "|     A-1|     VIETNAM (SOUTH)| 1972-10-05|              NULL|          D|       BIEN HOA|SOUTH VIETNAM|       148.0|BLU32B FIRE BOMB ...|              30000|\n",
            "|     A-1|     VIETNAM (SOUTH)| 1972-02-18|              NULL|          D|   TAN SON NHUT|     CAMBODIA|       120.0|                NULL|              84960|\n",
            "|     A-1|UNITED STATES OF ...| 1971-01-03|              NULL|       NULL|  NAKHON PHANOM|         LAOS|         0.0|                NULL|                  0|\n",
            "|     A-1|     VIETNAM (SOUTH)| 1971-04-05|              NULL|          D|       BIEN HOA|     CAMBODIA|       210.0|                NULL|                  0|\n",
            "|     A-1|     VIETNAM (SOUTH)| 1970-09-01|              NULL|          D|       BIEN HOA|     CAMBODIA|       250.0|                NULL|                  0|\n",
            "|     A-1|     VIETNAM (SOUTH)| 1972-09-13|              NULL|          D|         PLEIKU|SOUTH VIETNAM|       415.0|                NULL|                  0|\n",
            "|     A-1|     VIETNAM (SOUTH)| 1972-07-28|              NULL|       NULL|       BIEN HOA|SOUTH VIETNAM|         0.0|                NULL|                  0|\n",
            "|     A-1|     VIETNAM (SOUTH)| 1973-12-11|              NULL|          D|       BIEN HOA|SOUTH VIETNAM|       800.0|MK 82 GP BOMB (50...|             743400|\n",
            "|     A-1|UNITED STATES OF ...| 1972-05-07|              NULL|       NULL|  NAKHON PHANOM|         LAOS|         0.0|                NULL|                  0|\n",
            "+--------+--------------------+-----------+------------------+-----------+---------------+-------------+------------+--------------------+-------------------+\n",
            "only showing top 20 rows\n",
            "\n"
          ]
        }
      ]
    },
    {
      "cell_type": "code",
      "metadata": {
        "colab": {
          "base_uri": "https://localhost:8080/"
        },
        "id": "8ZJ40dA-X4fu",
        "outputId": "ca6ec4ba-34ca-455d-c16f-01324a1b952b"
      },
      "source": [
        "Aircraft_Glossary.where(Aircraft_Glossary.AirCraft==\"A-1\").collect() # Collect -- RDD create kore"
      ],
      "execution_count": null,
      "outputs": [
        {
          "output_type": "execute_result",
          "data": {
            "text/plain": [
              "[Row(AirCraft='A-1', AirCraftName='Douglas A-1 Skyraider', AirCraftType='Fighter Jet')]"
            ]
          },
          "metadata": {},
          "execution_count": 22
        }
      ]
    },
    {
      "cell_type": "code",
      "metadata": {
        "colab": {
          "base_uri": "https://localhost:8080/"
        },
        "id": "3XIR6qd2W1zt",
        "outputId": "0e891891-3255-4d51-8232-6dde576fe555"
      },
      "source": [
        "Aircraft_Glossary.where(\"AirCraft == 'A-1'\").show()"
      ],
      "execution_count": null,
      "outputs": [
        {
          "output_type": "stream",
          "name": "stdout",
          "text": [
            "+--------+--------------------+------------+\n",
            "|AirCraft|        AirCraftName|AirCraftType|\n",
            "+--------+--------------------+------------+\n",
            "|     A-1|Douglas A-1 Skyra...| Fighter Jet|\n",
            "+--------+--------------------+------------+\n",
            "\n"
          ]
        }
      ]
    },
    {
      "cell_type": "markdown",
      "source": [
        "Solve the folowing queries:\n",
        "\n",
        "1.Find all aircrafts of type \"Light Bomber\"\n",
        "\n",
        "2.Find all bombing missions operated by \"VIETMAN (SOUTH)\"\n",
        "\n",
        "3.Find aircraft, ,mission data, country Flying mission of those attacks in which the Take off location was \"UDORN AB\"\n",
        "\n",
        "4.Find all bombing operation on the year 1971\n",
        "\n",
        "5.Find the number of missions operated by each aircraft\n",
        "\n",
        "6.Find the maximum attack time operated by each aircraft\n",
        "\n",
        "7.Find the maximum attack time operated by each aircraft on a different target country"
      ],
      "metadata": {
        "id": "RLDl1u9LxOjL"
      }
    },
    {
      "cell_type": "code",
      "source": [
        "q1=Aircraft_Glossary.where(\"AirCraftType == 'Light Bomber'\")\n",
        "q1.show()"
      ],
      "metadata": {
        "id": "sPnj_Taaxr3E"
      },
      "execution_count": null,
      "outputs": []
    },
    {
      "cell_type": "code",
      "source": [
        "q2= Bombing_Operations.where(\"ContryFlyingMission == 'VIETNAM (SOUTH)'\")\n",
        "q2.show()"
      ],
      "metadata": {
        "id": "IRmCWXFzyAHV"
      },
      "execution_count": null,
      "outputs": []
    },
    {
      "cell_type": "code",
      "source": [
        "q3=Bombing_Operations.where(\"TakeoffLocation == 'UDORN AB'\").select(\"Aircraft\", \"MissionDate\", \"ContryFlyingMission\")\n",
        "q3.show()"
      ],
      "metadata": {
        "id": "SVsHwGYNySnv"
      },
      "execution_count": null,
      "outputs": []
    },
    {
      "cell_type": "code",
      "source": [
        "q4 = Bombing_Operations.where(year(Bombing_Operations.MissionDate) == 1971)\n",
        "q4_1=Bombing_Operations.where(\"MissionDate >= '1971-01-01' AND MissionDate<=1971\")\n",
        "#q4.show()\n",
        "q4_1.show()"
      ],
      "metadata": {
        "id": "9LsnRl9zyncX"
      },
      "execution_count": null,
      "outputs": []
    },
    {
      "cell_type": "code",
      "source": [
        "q5=Bombing_Operations.groupBy(\"Aircraft\").count()\n",
        "q5.sort(\"Aircraft\").show()"
      ],
      "metadata": {
        "colab": {
          "base_uri": "https://localhost:8080/"
        },
        "id": "5Omt1_iK8m7t",
        "outputId": "8fdfd738-c9d5-4767-e3b7-5061ca6bcb1b"
      },
      "execution_count": null,
      "outputs": [
        {
          "output_type": "stream",
          "name": "stdout",
          "text": [
            "+--------+------+\n",
            "|Aircraft| count|\n",
            "+--------+------+\n",
            "|     A-1|358498|\n",
            "|    A-26| 36242|\n",
            "|     A-3|  1213|\n",
            "|    A-37|267457|\n",
            "|     A-4|372975|\n",
            "|     A-5|     8|\n",
            "|     A-6|144601|\n",
            "|     A-7|165773|\n",
            "|      A8|     4|\n",
            "|  AC-119| 76525|\n",
            "|  AC-123|  3434|\n",
            "|  AC-130| 75058|\n",
            "|   AC-47| 73843|\n",
            "|    AH-1|  1292|\n",
            "|   AU-24|  5036|\n",
            "|     B-1|     2|\n",
            "|    B-52| 99100|\n",
            "|    B-57| 82219|\n",
            "|    B-66|  1052|\n",
            "|     C-1|    39|\n",
            "+--------+------+\n",
            "only showing top 20 rows\n",
            "\n"
          ]
        }
      ]
    },
    {
      "cell_type": "code",
      "source": [
        "q6 = Bombing_Operations.groupBy(\"Aircraft\").agg(max(\"TimeOnTarget\").alias(\"MaximumAttackTime\"))\n",
        "q6.show()"
      ],
      "metadata": {
        "colab": {
          "base_uri": "https://localhost:8080/"
        },
        "id": "tUC5wu499CGP",
        "outputId": "edee879a-b797-4ce3-c3a4-b286186c734c"
      },
      "execution_count": null,
      "outputs": [
        {
          "output_type": "stream",
          "name": "stdout",
          "text": [
            "+--------+-----------------+\n",
            "|Aircraft|MaximumAttackTime|\n",
            "+--------+-----------------+\n",
            "|     E-2|           2400.0|\n",
            "|  LC-130|            800.0|\n",
            "|     F-5|           2400.0|\n",
            "|   OV-10|           2359.0|\n",
            "|    U-1A|            200.0|\n",
            "|     E-3|            800.0|\n",
            "|   HC-47|           1720.0|\n",
            "|  EC-130|           2359.0|\n",
            "|    KA-4|           2235.0|\n",
            "|    HH-3|            801.0|\n",
            "|    TA-4|           2359.0|\n",
            "|  EC-121|           2359.0|\n",
            "|      T9|            250.0|\n",
            "|  AC-123|           2145.0|\n",
            "|    C-76|            800.0|\n",
            "|    OV-1|           1510.0|\n",
            "|  VC-118|            800.0|\n",
            "|   UH-34|              0.0|\n",
            "|    B-57|           2500.0|\n",
            "|    U-17|           2000.0|\n",
            "+--------+-----------------+\n",
            "only showing top 20 rows\n",
            "\n"
          ]
        }
      ]
    },
    {
      "cell_type": "code",
      "source": [
        "q7 = Bombing_Operations.groupBy(\"Aircraft\", \"ContryFlyingMission\").agg(max(\"TimeOnTarget\").alias(\"MaximumAttackTime\"))\n",
        "q7.show()"
      ],
      "metadata": {
        "colab": {
          "base_uri": "https://localhost:8080/"
        },
        "id": "8Txkrelt9hTs",
        "outputId": "1bbddeff-08e9-45cf-9d58-e31d6a3119b9"
      },
      "execution_count": null,
      "outputs": [
        {
          "output_type": "stream",
          "name": "stdout",
          "text": [
            "+---------+--------------------+-----------------+\n",
            "| Aircraft| ContryFlyingMission|MaximumAttackTime|\n",
            "+---------+--------------------+-----------------+\n",
            "|      U-6|     VIETNAM (SOUTH)|            900.0|\n",
            "|NOT CODED|UNITED STATES OF ...|           2250.0|\n",
            "|   UC-123|UNITED STATES OF ...|           2359.0|\n",
            "|    FC-47|UNITED STATES OF ...|           2400.0|\n",
            "|     B-57|           AUSTRALIA|           2359.0|\n",
            "|     KA-6|UNITED STATES OF ...|           1800.0|\n",
            "|   RF-101|UNITED STATES OF ...|           4830.0|\n",
            "|      E-2|UNITED STATES OF ...|           2400.0|\n",
            "|     T-28|                LAOS|           2355.0|\n",
            "|      A-7|UNITED STATES OF ...|           2359.0|\n",
            "|     RF-8|UNITED STATES OF ...|           9735.0|\n",
            "|    VC-54|UNITED STATES OF ...|            800.0|\n",
            "|   LC-130|UNITED STATES OF ...|            800.0|\n",
            "|      E-1|UNITED STATES OF ...|           2350.0|\n",
            "|    C-119|     VIETNAM (SOUTH)|            900.0|\n",
            "|      F-5|     VIETNAM (SOUTH)|           2357.0|\n",
            "|    AC-47|       KOREA (SOUTH)|           1400.0|\n",
            "|   AC-123|       KOREA (SOUTH)|           1400.0|\n",
            "|    EB-66|UNITED STATES OF ...|           2359.0|\n",
            "|    C-123|                LAOS|            800.0|\n",
            "+---------+--------------------+-----------------+\n",
            "only showing top 20 rows\n",
            "\n"
          ]
        }
      ]
    },
    {
      "cell_type": "markdown",
      "metadata": {
        "id": "bzfcChTzXdU9"
      },
      "source": [
        "##Counting the number of rows"
      ]
    },
    {
      "cell_type": "code",
      "metadata": {
        "colab": {
          "base_uri": "https://localhost:8080/"
        },
        "id": "1Yy1E8Z_XPA4",
        "outputId": "c6536377-8477-4751-c46f-2f0b35c10a1d"
      },
      "source": [
        "Bombing_Operations.count()"
      ],
      "execution_count": null,
      "outputs": [
        {
          "output_type": "execute_result",
          "data": {
            "text/plain": [
              "4400775"
            ]
          },
          "metadata": {},
          "execution_count": 56
        }
      ]
    },
    {
      "cell_type": "code",
      "metadata": {
        "colab": {
          "base_uri": "https://localhost:8080/"
        },
        "id": "fbbzMPhdXZP1",
        "outputId": "f09bb32d-e296-4c96-8985-6baf9da39906"
      },
      "source": [
        "Aircraft_Glossary.count()"
      ],
      "execution_count": null,
      "outputs": [
        {
          "output_type": "execute_result",
          "data": {
            "text/plain": [
              "104"
            ]
          },
          "metadata": {},
          "execution_count": 57
        }
      ]
    },
    {
      "cell_type": "code",
      "metadata": {
        "colab": {
          "base_uri": "https://localhost:8080/"
        },
        "id": "B9zeH3Q3Xgu-",
        "outputId": "c9d98901-7889-45c0-b03f-9052f88f0876"
      },
      "source": [
        "print(\"There are %d aircrafts\" % (Aircraft_Glossary.count()))"
      ],
      "execution_count": null,
      "outputs": [
        {
          "output_type": "stream",
          "name": "stdout",
          "text": [
            "There are 104 aircrafts\n"
          ]
        }
      ]
    },
    {
      "cell_type": "markdown",
      "metadata": {
        "id": "DRGhRPjHYa5e"
      },
      "source": [
        "##Writing Queries\n",
        "\n",
        "**1.Find the aircraft model and the mission date for the operations took place over LAOS (target country).**\n",
        "\n",
        "**2. Find the aircraft model, the mission date and take off location for the operations took place over LAOS (target country) and duration was more than 1000.**"
      ]
    },
    {
      "cell_type": "markdown",
      "metadata": {
        "id": "mqxrJFThaK4Z"
      },
      "source": []
    },
    {
      "cell_type": "code",
      "metadata": {
        "id": "sxPxn5-6YwEG"
      },
      "source": [
        "df_q1 = Bombing_Operations.where(\"TargetCountry = 'LAOS'\").select(\"AirCraft\", \"MissionDate\")"
      ],
      "execution_count": null,
      "outputs": []
    },
    {
      "cell_type": "code",
      "metadata": {
        "colab": {
          "base_uri": "https://localhost:8080/"
        },
        "id": "OjW20SKcZtYH",
        "outputId": "32589564-9ad2-477a-ad96-77655755d13a"
      },
      "source": [
        "df_q1.count()"
      ],
      "execution_count": null,
      "outputs": [
        {
          "output_type": "execute_result",
          "data": {
            "text/plain": [
              "1254695"
            ]
          },
          "metadata": {},
          "execution_count": 60
        }
      ]
    },
    {
      "cell_type": "code",
      "metadata": {
        "colab": {
          "base_uri": "https://localhost:8080/"
        },
        "id": "O_sBqbnvZ2Hv",
        "outputId": "317f059c-0c44-4952-e190-fc224a148bec"
      },
      "source": [
        "df_q1.show()"
      ],
      "execution_count": null,
      "outputs": [
        {
          "output_type": "stream",
          "name": "stdout",
          "text": [
            "+--------+-----------+\n",
            "|AirCraft|MissionDate|\n",
            "+--------+-----------+\n",
            "|    RF-4| 1973-07-28|\n",
            "|     A-1| 1970-02-02|\n",
            "|     F-4| 1970-11-25|\n",
            "|     A-4| 1972-03-08|\n",
            "|     F-4| 1971-12-27|\n",
            "|     A-6| 1971-05-12|\n",
            "|   EB-66| 1971-12-03|\n",
            "|    T-28| 1971-12-19|\n",
            "|     F-4| 1972-01-01|\n",
            "|    RF-4| 1972-01-08|\n",
            "|   F-105| 1970-10-02|\n",
            "|    RF-4| 1970-12-08|\n",
            "|     F-4| 1971-06-23|\n",
            "|     A-6| 1971-08-11|\n",
            "|    T-28| 1972-05-07|\n",
            "|     A-7| 1973-02-24|\n",
            "|    B-52| 1972-02-21|\n",
            "|     A-7| 1973-02-17|\n",
            "|     F-4| 1970-05-14|\n",
            "|     F-4| 1971-02-13|\n",
            "+--------+-----------+\n",
            "only showing top 20 rows\n",
            "\n"
          ]
        }
      ]
    },
    {
      "cell_type": "code",
      "metadata": {
        "id": "53gWa11kbO5H"
      },
      "source": [
        "df_q2 = Bombing_Operations.where(\"TargetCountry = 'LAOS' AND TimeOnTarget > 1000\").select(\"AirCraft\", \"MissionDate\",\"TakeOffLocation\")"
      ],
      "execution_count": null,
      "outputs": []
    },
    {
      "cell_type": "code",
      "metadata": {
        "colab": {
          "base_uri": "https://localhost:8080/"
        },
        "id": "NSSGbHvGbYPe",
        "outputId": "fc8f6c9c-481d-45c9-c64a-e1e4f3592df6"
      },
      "source": [
        "df_q2.show()"
      ],
      "execution_count": null,
      "outputs": [
        {
          "output_type": "stream",
          "name": "stdout",
          "text": [
            "+--------+-----------+---------------+\n",
            "|AirCraft|MissionDate|TakeOffLocation|\n",
            "+--------+-----------+---------------+\n",
            "|     A-1| 1970-02-02|  NAKHON PHANOM|\n",
            "|     A-4| 1972-03-08|    TONKIN GULF|\n",
            "|     A-6| 1971-05-12|    TONKIN GULF|\n",
            "|   EB-66| 1971-12-03|          KORAT|\n",
            "|   F-105| 1970-10-02|         TAKHLI|\n",
            "|     A-7| 1973-02-24|          KORAT|\n",
            "|    B-52| 1972-02-21|        U TAPAO|\n",
            "|   C-130| 1970-01-16|        UBON AB|\n",
            "|    B-57| 1971-06-24|        UBON AB|\n",
            "|  AC-119| 1971-11-05|        UBON AB|\n",
            "|  AC-130| 1972-03-01|        UBON AB|\n",
            "|  AC-130| 1971-04-21|        UBON AB|\n",
            "|     F-4| 1970-11-16|          KORAT|\n",
            "|   AC-47| 1973-01-18|     SAVANAKHET|\n",
            "|  AC-130| 1971-04-26|        UBON AB|\n",
            "|   AC-47| 1972-01-13|      LONG TIEN|\n",
            "|     F-4| 1970-02-03|         DANANG|\n",
            "|  AC-130| 1970-01-18|        UBON AB|\n",
            "|   QU-22| 1971-06-29|  NAKHON PHANOM|\n",
            "|     F-4| 1970-04-02|       UDORN AB|\n",
            "+--------+-----------+---------------+\n",
            "only showing top 20 rows\n",
            "\n"
          ]
        }
      ]
    },
    {
      "cell_type": "code",
      "metadata": {
        "colab": {
          "base_uri": "https://localhost:8080/"
        },
        "id": "HJOdDwvObaeJ",
        "outputId": "51ce5036-29ec-43e9-bb50-b59160c6b6da"
      },
      "source": [
        "df_q2.count()"
      ],
      "execution_count": null,
      "outputs": [
        {
          "output_type": "execute_result",
          "data": {
            "text/plain": [
              "546126"
            ]
          },
          "metadata": {},
          "execution_count": 64
        }
      ]
    },
    {
      "cell_type": "markdown",
      "metadata": {
        "id": "-58o0Oo_bsfo"
      },
      "source": [
        "##Aggregates and Sorting"
      ]
    },
    {
      "cell_type": "markdown",
      "metadata": {
        "id": "pbEuA83zb2aZ"
      },
      "source": [
        "**3. Number of missions for each country operating the missions (ContryFlyingMission)**\n",
        "\n",
        "**4. Find the average duration (TimeOnTarget) for each target country. Sort the result based on the Target Country Name**\n",
        "\n",
        "**5. Find the average duration (TimeOnTarget) for each target country per day. Sort the result according to mission date**\n",
        "\n"
      ]
    },
    {
      "cell_type": "code",
      "metadata": {
        "id": "AhmVQ06AbupP"
      },
      "source": [
        "df_q3 = Bombing_Operations.groupBy(\"ContryFlyingMission\").agg(count(\"*\").alias(\"NumberOfMissions\"))"
      ],
      "execution_count": null,
      "outputs": []
    },
    {
      "cell_type": "code",
      "metadata": {
        "colab": {
          "base_uri": "https://localhost:8080/"
        },
        "id": "TTpGk9UedQRg",
        "outputId": "8eaf2335-04e8-41cd-9fcf-693c57361939"
      },
      "source": [
        "df_q3.sort(desc(\"NumberOfMissions\")).show()"
      ],
      "execution_count": null,
      "outputs": [
        {
          "output_type": "stream",
          "name": "stdout",
          "text": [
            "+--------------------+----------------+\n",
            "| ContryFlyingMission|NumberOfMissions|\n",
            "+--------------------+----------------+\n",
            "|UNITED STATES OF ...|         3708997|\n",
            "|     VIETNAM (SOUTH)|          622013|\n",
            "|                LAOS|           32777|\n",
            "|       KOREA (SOUTH)|           24469|\n",
            "|           AUSTRALIA|           12519|\n",
            "+--------------------+----------------+\n",
            "\n"
          ]
        }
      ]
    },
    {
      "cell_type": "code",
      "metadata": {
        "id": "sSE9aeX4hEkC"
      },
      "source": [
        "df_q5 = Bombing_Operations.groupBy([\"MissionDate\",\"TargetCountry\"]).agg(avg(\"TimeOnTarget\").alias(\"Avg.Time\")).sort(\"MissionDate\",\"TargetCountry\")"
      ],
      "execution_count": null,
      "outputs": []
    },
    {
      "cell_type": "code",
      "metadata": {
        "colab": {
          "base_uri": "https://localhost:8080/"
        },
        "id": "iGcIC9ISiLzf",
        "outputId": "791c7595-c859-4130-f68e-81dde49e50de"
      },
      "source": [
        "df_q5.show()"
      ],
      "execution_count": null,
      "outputs": [
        {
          "output_type": "stream",
          "name": "stdout",
          "text": [
            "+-----------+-------------+------------------+\n",
            "|MissionDate|TargetCountry|          Avg.Time|\n",
            "+-----------+-------------+------------------+\n",
            "| 1965-10-01|         LAOS|            1203.0|\n",
            "| 1965-10-01|NORTH VIETNAM| 1183.111111111111|\n",
            "| 1965-10-01|SOUTH VIETNAM|1275.3181818181818|\n",
            "| 1965-10-02|         LAOS|1351.0833333333333|\n",
            "| 1965-10-02|NORTH VIETNAM|1235.1684981684982|\n",
            "| 1965-10-02|SOUTH VIETNAM|1216.1370262390672|\n",
            "| 1965-10-03|         LAOS|1037.7777777777778|\n",
            "| 1965-10-03|NORTH VIETNAM|1144.1968503937007|\n",
            "| 1965-10-03|SOUTH VIETNAM| 1267.709480122324|\n",
            "| 1965-10-04|         LAOS| 998.3181818181819|\n",
            "| 1965-10-04|NORTH VIETNAM|1281.5868725868727|\n",
            "| 1965-10-04|SOUTH VIETNAM|1131.0796812749004|\n",
            "| 1965-10-05|         LAOS|1301.1666666666667|\n",
            "| 1965-10-05|NORTH VIETNAM| 1240.695652173913|\n",
            "| 1965-10-05|SOUTH VIETNAM|1239.5200803212851|\n",
            "| 1965-10-06|         LAOS|1190.0461538461539|\n",
            "| 1965-10-06|NORTH VIETNAM| 981.1253918495298|\n",
            "| 1965-10-06|SOUTH VIETNAM|1266.1638418079096|\n",
            "| 1965-10-07|         LAOS| 972.7857142857143|\n",
            "| 1965-10-07|NORTH VIETNAM| 891.5697674418604|\n",
            "+-----------+-------------+------------------+\n",
            "only showing top 20 rows\n",
            "\n"
          ]
        }
      ]
    },
    {
      "cell_type": "markdown",
      "metadata": {
        "id": "xAuQvaY-jAoQ"
      },
      "source": [
        "##Tranforming on Pandas DataFrame"
      ]
    },
    {
      "cell_type": "code",
      "metadata": {
        "colab": {
          "base_uri": "https://localhost:8080/",
          "height": 206
        },
        "id": "F_wCw_FsjFT3",
        "outputId": "ea5c6658-6397-406e-dbb2-6b7dc030130b"
      },
      "source": [
        "mission_count_pd = df_q3.toPandas()\n",
        "mission_count_pd.head()"
      ],
      "execution_count": null,
      "outputs": [
        {
          "output_type": "execute_result",
          "data": {
            "text/plain": [
              "        ContryFlyingMission  NumberOfMissions\n",
              "0           VIETNAM (SOUTH)            622013\n",
              "1             KOREA (SOUTH)             24469\n",
              "2  UNITED STATES OF AMERICA           3708997\n",
              "3                 AUSTRALIA             12519\n",
              "4                      LAOS             32777"
            ],
            "text/html": [
              "\n",
              "  <div id=\"df-bf7c3798-05f3-42a6-9ccd-9e9715731bf5\" class=\"colab-df-container\">\n",
              "    <div>\n",
              "<style scoped>\n",
              "    .dataframe tbody tr th:only-of-type {\n",
              "        vertical-align: middle;\n",
              "    }\n",
              "\n",
              "    .dataframe tbody tr th {\n",
              "        vertical-align: top;\n",
              "    }\n",
              "\n",
              "    .dataframe thead th {\n",
              "        text-align: right;\n",
              "    }\n",
              "</style>\n",
              "<table border=\"1\" class=\"dataframe\">\n",
              "  <thead>\n",
              "    <tr style=\"text-align: right;\">\n",
              "      <th></th>\n",
              "      <th>ContryFlyingMission</th>\n",
              "      <th>NumberOfMissions</th>\n",
              "    </tr>\n",
              "  </thead>\n",
              "  <tbody>\n",
              "    <tr>\n",
              "      <th>0</th>\n",
              "      <td>VIETNAM (SOUTH)</td>\n",
              "      <td>622013</td>\n",
              "    </tr>\n",
              "    <tr>\n",
              "      <th>1</th>\n",
              "      <td>KOREA (SOUTH)</td>\n",
              "      <td>24469</td>\n",
              "    </tr>\n",
              "    <tr>\n",
              "      <th>2</th>\n",
              "      <td>UNITED STATES OF AMERICA</td>\n",
              "      <td>3708997</td>\n",
              "    </tr>\n",
              "    <tr>\n",
              "      <th>3</th>\n",
              "      <td>AUSTRALIA</td>\n",
              "      <td>12519</td>\n",
              "    </tr>\n",
              "    <tr>\n",
              "      <th>4</th>\n",
              "      <td>LAOS</td>\n",
              "      <td>32777</td>\n",
              "    </tr>\n",
              "  </tbody>\n",
              "</table>\n",
              "</div>\n",
              "    <div class=\"colab-df-buttons\">\n",
              "\n",
              "  <div class=\"colab-df-container\">\n",
              "    <button class=\"colab-df-convert\" onclick=\"convertToInteractive('df-bf7c3798-05f3-42a6-9ccd-9e9715731bf5')\"\n",
              "            title=\"Convert this dataframe to an interactive table.\"\n",
              "            style=\"display:none;\">\n",
              "\n",
              "  <svg xmlns=\"http://www.w3.org/2000/svg\" height=\"24px\" viewBox=\"0 -960 960 960\">\n",
              "    <path d=\"M120-120v-720h720v720H120Zm60-500h600v-160H180v160Zm220 220h160v-160H400v160Zm0 220h160v-160H400v160ZM180-400h160v-160H180v160Zm440 0h160v-160H620v160ZM180-180h160v-160H180v160Zm440 0h160v-160H620v160Z\"/>\n",
              "  </svg>\n",
              "    </button>\n",
              "\n",
              "  <style>\n",
              "    .colab-df-container {\n",
              "      display:flex;\n",
              "      gap: 12px;\n",
              "    }\n",
              "\n",
              "    .colab-df-convert {\n",
              "      background-color: #E8F0FE;\n",
              "      border: none;\n",
              "      border-radius: 50%;\n",
              "      cursor: pointer;\n",
              "      display: none;\n",
              "      fill: #1967D2;\n",
              "      height: 32px;\n",
              "      padding: 0 0 0 0;\n",
              "      width: 32px;\n",
              "    }\n",
              "\n",
              "    .colab-df-convert:hover {\n",
              "      background-color: #E2EBFA;\n",
              "      box-shadow: 0px 1px 2px rgba(60, 64, 67, 0.3), 0px 1px 3px 1px rgba(60, 64, 67, 0.15);\n",
              "      fill: #174EA6;\n",
              "    }\n",
              "\n",
              "    .colab-df-buttons div {\n",
              "      margin-bottom: 4px;\n",
              "    }\n",
              "\n",
              "    [theme=dark] .colab-df-convert {\n",
              "      background-color: #3B4455;\n",
              "      fill: #D2E3FC;\n",
              "    }\n",
              "\n",
              "    [theme=dark] .colab-df-convert:hover {\n",
              "      background-color: #434B5C;\n",
              "      box-shadow: 0px 1px 3px 1px rgba(0, 0, 0, 0.15);\n",
              "      filter: drop-shadow(0px 1px 2px rgba(0, 0, 0, 0.3));\n",
              "      fill: #FFFFFF;\n",
              "    }\n",
              "  </style>\n",
              "\n",
              "    <script>\n",
              "      const buttonEl =\n",
              "        document.querySelector('#df-bf7c3798-05f3-42a6-9ccd-9e9715731bf5 button.colab-df-convert');\n",
              "      buttonEl.style.display =\n",
              "        google.colab.kernel.accessAllowed ? 'block' : 'none';\n",
              "\n",
              "      async function convertToInteractive(key) {\n",
              "        const element = document.querySelector('#df-bf7c3798-05f3-42a6-9ccd-9e9715731bf5');\n",
              "        const dataTable =\n",
              "          await google.colab.kernel.invokeFunction('convertToInteractive',\n",
              "                                                    [key], {});\n",
              "        if (!dataTable) return;\n",
              "\n",
              "        const docLinkHtml = 'Like what you see? Visit the ' +\n",
              "          '<a target=\"_blank\" href=https://colab.research.google.com/notebooks/data_table.ipynb>data table notebook</a>'\n",
              "          + ' to learn more about interactive tables.';\n",
              "        element.innerHTML = '';\n",
              "        dataTable['output_type'] = 'display_data';\n",
              "        await google.colab.output.renderOutput(dataTable, element);\n",
              "        const docLink = document.createElement('div');\n",
              "        docLink.innerHTML = docLinkHtml;\n",
              "        element.appendChild(docLink);\n",
              "      }\n",
              "    </script>\n",
              "  </div>\n",
              "\n",
              "\n",
              "<div id=\"df-9c5369da-0351-46c5-ae00-9a866fd2dfcf\">\n",
              "  <button class=\"colab-df-quickchart\" onclick=\"quickchart('df-9c5369da-0351-46c5-ae00-9a866fd2dfcf')\"\n",
              "            title=\"Suggest charts\"\n",
              "            style=\"display:none;\">\n",
              "\n",
              "<svg xmlns=\"http://www.w3.org/2000/svg\" height=\"24px\"viewBox=\"0 0 24 24\"\n",
              "     width=\"24px\">\n",
              "    <g>\n",
              "        <path d=\"M19 3H5c-1.1 0-2 .9-2 2v14c0 1.1.9 2 2 2h14c1.1 0 2-.9 2-2V5c0-1.1-.9-2-2-2zM9 17H7v-7h2v7zm4 0h-2V7h2v10zm4 0h-2v-4h2v4z\"/>\n",
              "    </g>\n",
              "</svg>\n",
              "  </button>\n",
              "\n",
              "<style>\n",
              "  .colab-df-quickchart {\n",
              "      --bg-color: #E8F0FE;\n",
              "      --fill-color: #1967D2;\n",
              "      --hover-bg-color: #E2EBFA;\n",
              "      --hover-fill-color: #174EA6;\n",
              "      --disabled-fill-color: #AAA;\n",
              "      --disabled-bg-color: #DDD;\n",
              "  }\n",
              "\n",
              "  [theme=dark] .colab-df-quickchart {\n",
              "      --bg-color: #3B4455;\n",
              "      --fill-color: #D2E3FC;\n",
              "      --hover-bg-color: #434B5C;\n",
              "      --hover-fill-color: #FFFFFF;\n",
              "      --disabled-bg-color: #3B4455;\n",
              "      --disabled-fill-color: #666;\n",
              "  }\n",
              "\n",
              "  .colab-df-quickchart {\n",
              "    background-color: var(--bg-color);\n",
              "    border: none;\n",
              "    border-radius: 50%;\n",
              "    cursor: pointer;\n",
              "    display: none;\n",
              "    fill: var(--fill-color);\n",
              "    height: 32px;\n",
              "    padding: 0;\n",
              "    width: 32px;\n",
              "  }\n",
              "\n",
              "  .colab-df-quickchart:hover {\n",
              "    background-color: var(--hover-bg-color);\n",
              "    box-shadow: 0 1px 2px rgba(60, 64, 67, 0.3), 0 1px 3px 1px rgba(60, 64, 67, 0.15);\n",
              "    fill: var(--button-hover-fill-color);\n",
              "  }\n",
              "\n",
              "  .colab-df-quickchart-complete:disabled,\n",
              "  .colab-df-quickchart-complete:disabled:hover {\n",
              "    background-color: var(--disabled-bg-color);\n",
              "    fill: var(--disabled-fill-color);\n",
              "    box-shadow: none;\n",
              "  }\n",
              "\n",
              "  .colab-df-spinner {\n",
              "    border: 2px solid var(--fill-color);\n",
              "    border-color: transparent;\n",
              "    border-bottom-color: var(--fill-color);\n",
              "    animation:\n",
              "      spin 1s steps(1) infinite;\n",
              "  }\n",
              "\n",
              "  @keyframes spin {\n",
              "    0% {\n",
              "      border-color: transparent;\n",
              "      border-bottom-color: var(--fill-color);\n",
              "      border-left-color: var(--fill-color);\n",
              "    }\n",
              "    20% {\n",
              "      border-color: transparent;\n",
              "      border-left-color: var(--fill-color);\n",
              "      border-top-color: var(--fill-color);\n",
              "    }\n",
              "    30% {\n",
              "      border-color: transparent;\n",
              "      border-left-color: var(--fill-color);\n",
              "      border-top-color: var(--fill-color);\n",
              "      border-right-color: var(--fill-color);\n",
              "    }\n",
              "    40% {\n",
              "      border-color: transparent;\n",
              "      border-right-color: var(--fill-color);\n",
              "      border-top-color: var(--fill-color);\n",
              "    }\n",
              "    60% {\n",
              "      border-color: transparent;\n",
              "      border-right-color: var(--fill-color);\n",
              "    }\n",
              "    80% {\n",
              "      border-color: transparent;\n",
              "      border-right-color: var(--fill-color);\n",
              "      border-bottom-color: var(--fill-color);\n",
              "    }\n",
              "    90% {\n",
              "      border-color: transparent;\n",
              "      border-bottom-color: var(--fill-color);\n",
              "    }\n",
              "  }\n",
              "</style>\n",
              "\n",
              "  <script>\n",
              "    async function quickchart(key) {\n",
              "      const quickchartButtonEl =\n",
              "        document.querySelector('#' + key + ' button');\n",
              "      quickchartButtonEl.disabled = true;  // To prevent multiple clicks.\n",
              "      quickchartButtonEl.classList.add('colab-df-spinner');\n",
              "      try {\n",
              "        const charts = await google.colab.kernel.invokeFunction(\n",
              "            'suggestCharts', [key], {});\n",
              "      } catch (error) {\n",
              "        console.error('Error during call to suggestCharts:', error);\n",
              "      }\n",
              "      quickchartButtonEl.classList.remove('colab-df-spinner');\n",
              "      quickchartButtonEl.classList.add('colab-df-quickchart-complete');\n",
              "    }\n",
              "    (() => {\n",
              "      let quickchartButtonEl =\n",
              "        document.querySelector('#df-9c5369da-0351-46c5-ae00-9a866fd2dfcf button');\n",
              "      quickchartButtonEl.style.display =\n",
              "        google.colab.kernel.accessAllowed ? 'block' : 'none';\n",
              "    })();\n",
              "  </script>\n",
              "</div>\n",
              "\n",
              "    </div>\n",
              "  </div>\n"
            ],
            "application/vnd.google.colaboratory.intrinsic+json": {
              "type": "dataframe",
              "variable_name": "mission_count_pd",
              "summary": "{\n  \"name\": \"mission_count_pd\",\n  \"rows\": 5,\n  \"fields\": [\n    {\n      \"column\": \"ContryFlyingMission\",\n      \"properties\": {\n        \"dtype\": \"string\",\n        \"num_unique_values\": 5,\n        \"samples\": [\n          \"KOREA (SOUTH)\",\n          \"LAOS\",\n          \"UNITED STATES OF AMERICA\"\n        ],\n        \"semantic_type\": \"\",\n        \"description\": \"\"\n      }\n    },\n    {\n      \"column\": \"NumberOfMissions\",\n      \"properties\": {\n        \"dtype\": \"number\",\n        \"std\": 1602499,\n        \"min\": 12519,\n        \"max\": 3708997,\n        \"num_unique_values\": 5,\n        \"samples\": [\n          24469,\n          32777,\n          3708997\n        ],\n        \"semantic_type\": \"\",\n        \"description\": \"\"\n      }\n    }\n  ]\n}"
            }
          },
          "metadata": {},
          "execution_count": 69
        }
      ]
    },
    {
      "cell_type": "code",
      "metadata": {
        "colab": {
          "base_uri": "https://localhost:8080/",
          "height": 667
        },
        "id": "aEej8pZ7jWgp",
        "outputId": "976d3820-76d7-4816-b068-b910d50a4728"
      },
      "source": [
        "mission_count_pd.plot(kind=\"bar\", x= \"ContryFlyingMission\", y=\"NumberOfMissions\")"
      ],
      "execution_count": null,
      "outputs": [
        {
          "output_type": "execute_result",
          "data": {
            "text/plain": [
              "<Axes: xlabel='ContryFlyingMission'>"
            ]
          },
          "metadata": {},
          "execution_count": 70
        },
        {
          "output_type": "display_data",
          "data": {
            "text/plain": [
              "<Figure size 640x480 with 1 Axes>"
            ],
            "image/png": "[encoded data removed]"
          },
          "metadata": {}
        }
      ]
    },
    {
      "cell_type": "markdown",
      "metadata": {
        "id": "om320mIij-vx"
      },
      "source": [
        "##Writing RAW SQL Queries"
      ]
    },
    {
      "cell_type": "code",
      "metadata": {
        "id": "aEE1h4ixkB4n"
      },
      "source": [
        "Bombing_Operations.createOrReplaceTempView(\"Bombing_operations\")\n",
        "\n",
        "query = \"\"\" SELECT ContryFlyingMission, count(*) as NumberOfMissions\n",
        "            FROM Bombing_Operations\n",
        "            GROUP BY ContryFlyingMission\n",
        "            ORDER BY NumberOfMissions desc\n",
        "        \"\"\"\n",
        "\n",
        "missions_count = spark.sql(query)\n"
      ],
      "execution_count": null,
      "outputs": []
    },
    {
      "cell_type": "code",
      "metadata": {
        "colab": {
          "base_uri": "https://localhost:8080/"
        },
        "id": "LYEZ6cFOk0zv",
        "outputId": "f62025b4-2cdf-4ee2-fb28-477b35ac689e"
      },
      "source": [
        "missions_count.show()"
      ],
      "execution_count": null,
      "outputs": [
        {
          "output_type": "stream",
          "name": "stdout",
          "text": [
            "+--------------------+----------------+\n",
            "| ContryFlyingMission|NumberOfMissions|\n",
            "+--------------------+----------------+\n",
            "|UNITED STATES OF ...|         3708997|\n",
            "|     VIETNAM (SOUTH)|          622013|\n",
            "|                LAOS|           32777|\n",
            "|       KOREA (SOUTH)|           24469|\n",
            "|           AUSTRALIA|           12519|\n",
            "+--------------------+----------------+\n",
            "\n"
          ]
        }
      ]
    },
    {
      "cell_type": "markdown",
      "metadata": {
        "id": "nAvJpvQKMUrD"
      },
      "source": [
        "**We will keep working on the previous Colab Notebook of Lab 05.**\n",
        "\n",
        "**Notebook Link is given in Classroom**\n",
        "\n",
        "**Make sure that you have saved the copy and executes all the cell first**\n",
        "\n",
        "**Also upload all the files (csv, txt) given in Datasets folder in the Google Drive**"
      ]
    },
    {
      "cell_type": "markdown",
      "metadata": {
        "id": "cvaR68yuNsAw"
      },
      "source": [
        "1. Implementing Join over Standard DataFrame\n",
        "\n",
        "2. Demonstrating RDD APIs (e.g. Map, Reduce etc.)"
      ]
    },
    {
      "cell_type": "code",
      "metadata": {
        "colab": {
          "base_uri": "https://localhost:8080/"
        },
        "id": "onKxii-UM3PK",
        "outputId": "2c5529fe-a584-42e8-99b8-8e1bb5160022"
      },
      "source": [
        "print(Bombing_Operations.show())"
      ],
      "execution_count": null,
      "outputs": [
        {
          "output_type": "stream",
          "name": "stdout",
          "text": [
            "+--------+--------------------+-----------+------------------+-----------+---------------+-------------+------------+--------------------+-------------------+\n",
            "|AirCraft| ContryFlyingMission|MissionDate|OperationSupported|PeriodOfDay|TakeoffLocation|TargetCountry|TimeOnTarget|          WeaponType|WeaponsLoadedWeight|\n",
            "+--------+--------------------+-----------+------------------+-----------+---------------+-------------+------------+--------------------+-------------------+\n",
            "|   EC-47|UNITED STATES OF ...| 1971-06-05|              NULL|          D|   TAN SON NHUT|     CAMBODIA|      1005.0|                NULL|                  0|\n",
            "|   EC-47|UNITED STATES OF ...| 1972-12-26|              NULL|          D|  NAKHON PHANOM|SOUTH VIETNAM|       530.0|                NULL|                  0|\n",
            "|    RF-4|UNITED STATES OF ...| 1973-07-28|              NULL|          D|       UDORN AB|         LAOS|       730.0|                NULL|                  0|\n",
            "|     A-1|UNITED STATES OF ...| 1970-02-02|              NULL|          N|  NAKHON PHANOM|         LAOS|      1415.0|BLU27 FIRE BOMB (...|              17400|\n",
            "|    A-37|     VIETNAM (SOUTH)| 1970-10-08|              NULL|          D|         DANANG|SOUTH VIETNAM|      1240.0|                NULL|                  0|\n",
            "|     F-4|UNITED STATES OF ...| 1970-11-25|              NULL|          D|        UBON AB|         LAOS|       650.0|MK 82 GP BOMB (50...|              31860|\n",
            "|     A-4|UNITED STATES OF ...| 1972-03-08|              NULL|          D|    TONKIN GULF|         LAOS|      1005.0|                NULL|                  0|\n",
            "|     F-4|UNITED STATES OF ...| 1971-12-27|              NULL|       NULL|       UDORN AB|         LAOS|         0.0|                NULL|                  0|\n",
            "|     A-7|UNITED STATES OF ...| 1972-05-24|              NULL|       NULL|    TONKIN GULF|NORTH VIETNAM|         0.0|                NULL|                  0|\n",
            "|   EC-47|UNITED STATES OF ...| 1972-09-12|              NULL|          D|   TAN SON NHUT|SOUTH VIETNAM|       710.0|                NULL|                  0|\n",
            "|   CH-53|UNITED STATES OF ...| 1974-06-13|              NULL|          N|  NAKHON PHANOM|     THAILAND|      1800.0|                NULL|                  0|\n",
            "|   CH-53|UNITED STATES OF ...| 1974-12-19|              NULL|          D|  NAKHON PHANOM|     THAILAND|       800.0|                NULL|                  0|\n",
            "|     O-1|     VIETNAM (SOUTH)| 1973-10-24|              NULL|          D|      NHA TRANG|SOUTH VIETNAM|       800.0|                NULL|                  0|\n",
            "|    UH-1|     VIETNAM (SOUTH)| 1974-03-19|              NULL|          D|        PHU CAT|SOUTH VIETNAM|       800.0|        CARGO (TONS)|                  0|\n",
            "|     C-7|UNITED STATES OF ...| 1970-05-08|              NULL|          D|   TAN SON NHUT|SOUTH VIETNAM|       800.0|                NULL|                  0|\n",
            "|     A-6|UNITED STATES OF ...| 1971-05-12|              NULL|          N|    TONKIN GULF|         LAOS|      1304.0|CBU24 AN PR/MT (B...|              33200|\n",
            "|   EB-66|UNITED STATES OF ...| 1971-12-03|              NULL|          N|          KORAT|         LAOS|      1445.0|                NULL|                  0|\n",
            "|    T-28|                LAOS| 1971-12-19|              NULL|          D|     SAVANAKHET|         LAOS|       230.0|                NULL|                  0|\n",
            "|     A-6|UNITED STATES OF ...| 1972-08-18|              NULL|       NULL|    TONKIN GULF|NORTH VIETNAM|         0.0|                NULL|                  0|\n",
            "|     A-7|UNITED STATES OF ...| 1972-10-15|              NULL|          D|    TONKIN GULF|NORTH VIETNAM|       110.0|                NULL|                  0|\n",
            "+--------+--------------------+-----------+------------------+-----------+---------------+-------------+------------+--------------------+-------------------+\n",
            "only showing top 20 rows\n",
            "\n",
            "None\n"
          ]
        }
      ]
    },
    {
      "cell_type": "code",
      "metadata": {
        "colab": {
          "base_uri": "https://localhost:8080/"
        },
        "id": "e3h5MBnoOqr5",
        "outputId": "1661e9ba-23fe-4f53-c655-0750bc462c80"
      },
      "source": [
        "print(Aircraft_Glossary.show())"
      ],
      "execution_count": null,
      "outputs": [
        {
          "output_type": "stream",
          "name": "stdout",
          "text": [
            "+--------+--------------------+--------------------+\n",
            "|AirCraft|        AirCraftName|        AirCraftType|\n",
            "+--------+--------------------+--------------------+\n",
            "|     A-1|Douglas A-1 Skyra...|         Fighter Jet|\n",
            "|    A-26|Douglas A-26 Invader|        Light Bomber|\n",
            "|    A-37|Cessna A-37 Drago...|Light ground-atta...|\n",
            "|     A-4|McDonnell Douglas...|         Fighter Jet|\n",
            "|     A-5|North American A-...|          Bomber Jet|\n",
            "|     A-6|Grumman A-6 Intruder|     Attack Aircraft|\n",
            "|     A-7|  LTV A-7 Corsair II|     Attack Aircraft|\n",
            "|  AC-119|Fairchild AC-119 ...|Military Transpor...|\n",
            "|  AC-123|Fairchild C-123 P...|Military Transpor...|\n",
            "|  AC-130|Lockheed AC-130 S...|Fixed wing ground...|\n",
            "|   AC-47|Douglas AC-47 Spooky|Ground attack air...|\n",
            "|    AH-1| Bell AH-1 HueyCobra|          Helicopter|\n",
            "|     B-1| Rockwell B-1 Lancer|Heavy strategic b...|\n",
            "|    B-52| B-52 Stratofortress|    Strategic bomber|\n",
            "|    B-57|Martin B-57 Canberra|     Tactical Bomber|\n",
            "|    B-66|Douglas B-66 Dest...|        Light Bomber|\n",
            "|     C-1| Grumman C-1A Trader|           Transport|\n",
            "|   C-117|     C-117D Skytrain|           Transport|\n",
            "|   C-119|Fairchild C-119 F...|Military Transpor...|\n",
            "|   C-123|Fairchild C-123 P...|Military Transpor...|\n",
            "+--------+--------------------+--------------------+\n",
            "only showing top 20 rows\n",
            "\n",
            "None\n"
          ]
        }
      ]
    },
    {
      "cell_type": "markdown",
      "metadata": {
        "id": "Z1YVf9fvO_c5"
      },
      "source": [
        "Performing a Join Between these two data frames"
      ]
    },
    {
      "cell_type": "code",
      "metadata": {
        "id": "AP0WqszTOyGw"
      },
      "source": [
        "join_results = Bombing_Operations.join(Aircraft_Glossary, Bombing_Operations.AirCraft == Aircraft_Glossary.AirCraft)"
      ],
      "execution_count": null,
      "outputs": []
    },
    {
      "cell_type": "code",
      "metadata": {
        "colab": {
          "base_uri": "https://localhost:8080/"
        },
        "id": "zgVoyrY0PhCx",
        "outputId": "ac71fb80-e30f-44c6-ddc4-bb320143ccff"
      },
      "source": [
        "join_results.show()"
      ],
      "execution_count": null,
      "outputs": [
        {
          "output_type": "stream",
          "name": "stdout",
          "text": [
            "+--------+--------------------+-----------+------------------+-----------+---------------+-------------+------------+--------------------+-------------------+--------+--------------------+--------------------+\n",
            "|AirCraft| ContryFlyingMission|MissionDate|OperationSupported|PeriodOfDay|TakeoffLocation|TargetCountry|TimeOnTarget|          WeaponType|WeaponsLoadedWeight|AirCraft|        AirCraftName|        AirCraftType|\n",
            "+--------+--------------------+-----------+------------------+-----------+---------------+-------------+------------+--------------------+-------------------+--------+--------------------+--------------------+\n",
            "|   EC-47|UNITED STATES OF ...| 1971-06-05|              NULL|          D|   TAN SON NHUT|     CAMBODIA|      1005.0|                NULL|                  0|   EC-47|Douglas C-47 Skyt...|Military Transpor...|\n",
            "|   EC-47|UNITED STATES OF ...| 1972-12-26|              NULL|          D|  NAKHON PHANOM|SOUTH VIETNAM|       530.0|                NULL|                  0|   EC-47|Douglas C-47 Skyt...|Military Transpor...|\n",
            "|    RF-4|UNITED STATES OF ...| 1973-07-28|              NULL|          D|       UDORN AB|         LAOS|       730.0|                NULL|                  0|    RF-4|McDonnell F-4 Pha...|  Fighter bomber jet|\n",
            "|     A-1|UNITED STATES OF ...| 1970-02-02|              NULL|          N|  NAKHON PHANOM|         LAOS|      1415.0|BLU27 FIRE BOMB (...|              17400|     A-1|Douglas A-1 Skyra...|         Fighter Jet|\n",
            "|    A-37|     VIETNAM (SOUTH)| 1970-10-08|              NULL|          D|         DANANG|SOUTH VIETNAM|      1240.0|                NULL|                  0|    A-37|Cessna A-37 Drago...|Light ground-atta...|\n",
            "|     F-4|UNITED STATES OF ...| 1970-11-25|              NULL|          D|        UBON AB|         LAOS|       650.0|MK 82 GP BOMB (50...|              31860|     F-4|McDonnell Douglas...|  Fighter Jet Bomber|\n",
            "|     A-4|UNITED STATES OF ...| 1972-03-08|              NULL|          D|    TONKIN GULF|         LAOS|      1005.0|                NULL|                  0|     A-4|McDonnell Douglas...|         Fighter Jet|\n",
            "|     F-4|UNITED STATES OF ...| 1971-12-27|              NULL|       NULL|       UDORN AB|         LAOS|         0.0|                NULL|                  0|     F-4|McDonnell Douglas...|  Fighter Jet Bomber|\n",
            "|     A-7|UNITED STATES OF ...| 1972-05-24|              NULL|       NULL|    TONKIN GULF|NORTH VIETNAM|         0.0|                NULL|                  0|     A-7|  LTV A-7 Corsair II|     Attack Aircraft|\n",
            "|   EC-47|UNITED STATES OF ...| 1972-09-12|              NULL|          D|   TAN SON NHUT|SOUTH VIETNAM|       710.0|                NULL|                  0|   EC-47|Douglas C-47 Skyt...|Military Transpor...|\n",
            "|   CH-53|UNITED STATES OF ...| 1974-06-13|              NULL|          N|  NAKHON PHANOM|     THAILAND|      1800.0|                NULL|                  0|   CH-53|Sikorsky CH-53 Se...|Heavy-lift cargo ...|\n",
            "|   CH-53|UNITED STATES OF ...| 1974-12-19|              NULL|          D|  NAKHON PHANOM|     THAILAND|       800.0|                NULL|                  0|   CH-53|Sikorsky CH-53 Se...|Heavy-lift cargo ...|\n",
            "|     O-1|     VIETNAM (SOUTH)| 1973-10-24|              NULL|          D|      NHA TRANG|SOUTH VIETNAM|       800.0|                NULL|                  0|     O-1| Cessna O-1 Bird Dog|Observation Aircraft|\n",
            "|    UH-1|     VIETNAM (SOUTH)| 1974-03-19|              NULL|          D|        PHU CAT|SOUTH VIETNAM|       800.0|        CARGO (TONS)|                  0|    UH-1|  Bell UH-1 Iroquois|  Utility Helicopter|\n",
            "|     C-7|UNITED STATES OF ...| 1970-05-08|              NULL|          D|   TAN SON NHUT|SOUTH VIETNAM|       800.0|                NULL|                  0|     C-7|       C-7A Caribou |Military Transpor...|\n",
            "|     A-6|UNITED STATES OF ...| 1971-05-12|              NULL|          N|    TONKIN GULF|         LAOS|      1304.0|CBU24 AN PR/MT (B...|              33200|     A-6|Grumman A-6 Intruder|     Attack Aircraft|\n",
            "|   EB-66|UNITED STATES OF ...| 1971-12-03|              NULL|          N|          KORAT|         LAOS|      1445.0|                NULL|                  0|   EB-66|Douglas B-66 Dest...|Light Tactical Bo...|\n",
            "|    T-28|                LAOS| 1971-12-19|              NULL|          D|     SAVANAKHET|         LAOS|       230.0|                NULL|                  0|    T-28| T-28 Trojan Trainer|   Training Aircraft|\n",
            "|     A-6|UNITED STATES OF ...| 1972-08-18|              NULL|       NULL|    TONKIN GULF|NORTH VIETNAM|         0.0|                NULL|                  0|     A-6|Grumman A-6 Intruder|     Attack Aircraft|\n",
            "|     A-7|UNITED STATES OF ...| 1972-10-15|              NULL|          D|    TONKIN GULF|NORTH VIETNAM|       110.0|                NULL|                  0|     A-7|  LTV A-7 Corsair II|     Attack Aircraft|\n",
            "+--------+--------------------+-----------+------------------+-----------+---------------+-------------+------------+--------------------+-------------------+--------+--------------------+--------------------+\n",
            "only showing top 20 rows\n",
            "\n"
          ]
        }
      ]
    },
    {
      "cell_type": "markdown",
      "metadata": {
        "id": "Zzi3SS2YPzHq"
      },
      "source": [
        "Query. Find the number of Operations for each Aircraft Type"
      ]
    },
    {
      "cell_type": "code",
      "metadata": {
        "colab": {
          "base_uri": "https://localhost:8080/"
        },
        "id": "cdOfcFdUQJeQ",
        "outputId": "2bf5de04-9f6d-4a3b-f2b4-69ddc59fa2da"
      },
      "source": [
        "missionsPerAircraftType = join_results.groupBy(\"AirCraftType\").agg(count(\"*\").alias(\"NumOperations\")).sort(\"AirCraftType\")\n",
        "missionsPerAircraftType.show()"
      ],
      "execution_count": null,
      "outputs": [
        {
          "output_type": "stream",
          "name": "stdout",
          "text": [
            "+--------------------+-------------+\n",
            "|        AirCraftType|NumOperations|\n",
            "+--------------------+-------------+\n",
            "|Aerial refuelling...|         8266|\n",
            "|Airborne early wa...|        17226|\n",
            "| Airliner/ Transport|            1|\n",
            "|Airliner/transpor...|          397|\n",
            "|     Attack Aircraft|       315246|\n",
            "|          Bomber Jet|            8|\n",
            "|    Cargo Helicopter|         2571|\n",
            "|    Cargo Prop plane|          176|\n",
            "|Carrier-base all-...|            2|\n",
            "|Carrier-based Ear...|         1498|\n",
            "|Carrier-based Fig...|        58691|\n",
            "|Close -Support He...|         2174|\n",
            "|Close air support...|          921|\n",
            "|Early Warning air...|         1380|\n",
            "|         Fighter Jet|       882594|\n",
            "|  Fighter Jet Bomber|      1073126|\n",
            "|  Fighter Prop Plane|         3882|\n",
            "|  Fighter bomber jet|       242231|\n",
            "|        Fighter jet |        10322|\n",
            "|Fixed wing ground...|        75058|\n",
            "+--------------------+-------------+\n",
            "only showing top 20 rows\n",
            "\n"
          ]
        }
      ]
    },
    {
      "cell_type": "code",
      "metadata": {
        "colab": {
          "base_uri": "https://localhost:8080/"
        },
        "id": "tSxKFrYHSM4p",
        "outputId": "201c5082-28fe-4c08-ffc4-45e345c3169e"
      },
      "source": [
        "missionsPerAircraftType.cache()"
      ],
      "execution_count": null,
      "outputs": [
        {
          "output_type": "execute_result",
          "data": {
            "text/plain": [
              "DataFrame[AirCraftType: string, NumOperations: bigint]"
            ]
          },
          "metadata": {},
          "execution_count": 78
        }
      ]
    },
    {
      "cell_type": "code",
      "metadata": {
        "colab": {
          "base_uri": "https://localhost:8080/"
        },
        "id": "NEhtSg7VSU8h",
        "outputId": "5bc4a3ba-94d0-47e8-9b23-c8b08497f9de"
      },
      "source": [
        "%time missionsPerAircraftType.show()"
      ],
      "execution_count": null,
      "outputs": [
        {
          "output_type": "stream",
          "name": "stdout",
          "text": [
            "+--------------------+-------------+\n",
            "|        AirCraftType|NumOperations|\n",
            "+--------------------+-------------+\n",
            "|Aerial refuelling...|         8266|\n",
            "|Airborne early wa...|        17226|\n",
            "| Airliner/ Transport|            1|\n",
            "|Airliner/transpor...|          397|\n",
            "|     Attack Aircraft|       315246|\n",
            "|          Bomber Jet|            8|\n",
            "|    Cargo Helicopter|         2571|\n",
            "|    Cargo Prop plane|          176|\n",
            "|Carrier-base all-...|            2|\n",
            "|Carrier-based Ear...|         1498|\n",
            "|Carrier-based Fig...|        58691|\n",
            "|Close -Support He...|         2174|\n",
            "|Close air support...|          921|\n",
            "|Early Warning air...|         1380|\n",
            "|         Fighter Jet|       882594|\n",
            "|  Fighter Jet Bomber|      1073126|\n",
            "|  Fighter Prop Plane|         3882|\n",
            "|  Fighter bomber jet|       242231|\n",
            "|        Fighter jet |        10322|\n",
            "|Fixed wing ground...|        75058|\n",
            "+--------------------+-------------+\n",
            "only showing top 20 rows\n",
            "\n",
            "CPU times: user 125 ms, sys: 12.1 ms, total: 137 ms\n",
            "Wall time: 21.4 s\n"
          ]
        }
      ]
    },
    {
      "cell_type": "code",
      "metadata": {
        "colab": {
          "base_uri": "https://localhost:8080/"
        },
        "id": "XXlLzO8NSkJa",
        "outputId": "da282af5-50f1-4ea7-b0a2-1919412e29a4"
      },
      "source": [
        "%time missionsPerAircraftType.show()"
      ],
      "execution_count": null,
      "outputs": [
        {
          "output_type": "stream",
          "name": "stdout",
          "text": [
            "+--------------------+-------------+\n",
            "|        AirCraftType|NumOperations|\n",
            "+--------------------+-------------+\n",
            "|Aerial refuelling...|         8266|\n",
            "|Airborne early wa...|        17226|\n",
            "| Airliner/ Transport|            1|\n",
            "|Airliner/transpor...|          397|\n",
            "|     Attack Aircraft|       315246|\n",
            "|          Bomber Jet|            8|\n",
            "|    Cargo Helicopter|         2571|\n",
            "|    Cargo Prop plane|          176|\n",
            "|Carrier-base all-...|            2|\n",
            "|Carrier-based Ear...|         1498|\n",
            "|Carrier-based Fig...|        58691|\n",
            "|Close -Support He...|         2174|\n",
            "|Close air support...|          921|\n",
            "|Early Warning air...|         1380|\n",
            "|         Fighter Jet|       882594|\n",
            "|  Fighter Jet Bomber|      1073126|\n",
            "|  Fighter Prop Plane|         3882|\n",
            "|  Fighter bomber jet|       242231|\n",
            "|        Fighter jet |        10322|\n",
            "|Fixed wing ground...|        75058|\n",
            "+--------------------+-------------+\n",
            "only showing top 20 rows\n",
            "\n",
            "CPU times: user 3.8 ms, sys: 0 ns, total: 3.8 ms\n",
            "Wall time: 414 ms\n"
          ]
        }
      ]
    },
    {
      "cell_type": "code",
      "metadata": {
        "id": "mmlecvA1Sytx"
      },
      "source": [
        "missionsPerAircraftType.write.mode('overwrite').json(\"missionsPerACType.json\")"
      ],
      "execution_count": null,
      "outputs": []
    },
    {
      "cell_type": "code",
      "metadata": {
        "colab": {
          "base_uri": "https://localhost:8080/"
        },
        "id": "zGznsydXTdA8",
        "outputId": "9a67d491-d7c2-4914-ab05-a0902455c772"
      },
      "source": [
        "print(missionsPerAircraftType.count())"
      ],
      "execution_count": null,
      "outputs": [
        {
          "output_type": "stream",
          "name": "stdout",
          "text": [
            "56\n"
          ]
        }
      ]
    },
    {
      "cell_type": "markdown",
      "metadata": {
        "id": "rzHzgZRFQv_J"
      },
      "source": [
        "Writing the same query using RAW SQL"
      ]
    },
    {
      "cell_type": "code",
      "metadata": {
        "colab": {
          "base_uri": "https://localhost:8080/"
        },
        "id": "NRV5PacHQzP5",
        "outputId": "f0721e79-699a-4222-df4b-99a108fdda01"
      },
      "source": [
        "Bombing_Operations.createOrReplaceTempView(\"bombing\")\n",
        "Aircraft_Glossary.createOrReplaceTempView(\"aircraft\")\n",
        "\n",
        "query = \"\"\" SELECT AirCraftType, count(*) as NumOperations\n",
        "            FROM bombing b, aircraft a\n",
        "            WHERE b.AirCraft = a.AirCraft\n",
        "            GROUP BY AirCraftType\n",
        "            ORDER BY AirCraftType\n",
        "        \"\"\"\n",
        "\n",
        "spark.sql(query).show()"
      ],
      "execution_count": null,
      "outputs": [
        {
          "output_type": "stream",
          "name": "stdout",
          "text": [
            "+--------------------+-------------+\n",
            "|        AirCraftType|NumOperations|\n",
            "+--------------------+-------------+\n",
            "|Aerial refuelling...|         8266|\n",
            "|Airborne early wa...|        17226|\n",
            "| Airliner/ Transport|            1|\n",
            "|Airliner/transpor...|          397|\n",
            "|     Attack Aircraft|       315246|\n",
            "|          Bomber Jet|            8|\n",
            "|    Cargo Helicopter|         2571|\n",
            "|    Cargo Prop plane|          176|\n",
            "|Carrier-base all-...|            2|\n",
            "|Carrier-based Ear...|         1498|\n",
            "|Carrier-based Fig...|        58691|\n",
            "|Close -Support He...|         2174|\n",
            "|Close air support...|          921|\n",
            "|Early Warning air...|         1380|\n",
            "|         Fighter Jet|       882594|\n",
            "|  Fighter Jet Bomber|      1073126|\n",
            "|  Fighter Prop Plane|         3882|\n",
            "|  Fighter bomber jet|       242231|\n",
            "|        Fighter jet |        10322|\n",
            "|Fixed wing ground...|        75058|\n",
            "+--------------------+-------------+\n",
            "only showing top 20 rows\n",
            "\n"
          ]
        }
      ]
    },
    {
      "cell_type": "markdown",
      "metadata": {
        "id": "jJEPeHWJUI0A"
      },
      "source": [
        "**Creating RDDs from Different Types of Data**"
      ]
    },
    {
      "cell_type": "code",
      "metadata": {
        "id": "1AgZelP2UPbJ"
      },
      "source": [
        "data = [(\"Alice\", 29, 14500), (\"Bob\", 25, 12000), (\"Charlie\", 35, 45000)]\n",
        "columns = [\"name\", \"age\", \"salary\"]"
      ],
      "execution_count": null,
      "outputs": []
    },
    {
      "cell_type": "code",
      "metadata": {
        "colab": {
          "base_uri": "https://localhost:8080/"
        },
        "id": "Shc94-sRUqJB",
        "outputId": "7bb71a52-6eea-4ba2-849b-c8f901ebecab"
      },
      "source": [
        "rdd1 = sc.parallelize(data)\n",
        "print(rdd1.collect())"
      ],
      "execution_count": null,
      "outputs": [
        {
          "output_type": "stream",
          "name": "stdout",
          "text": [
            "[('Alice', 29, 14500), ('Bob', 25, 12000), ('Charlie', 35, 45000)]\n"
          ]
        }
      ]
    },
    {
      "cell_type": "code",
      "metadata": {
        "colab": {
          "base_uri": "https://localhost:8080/"
        },
        "id": "jmwXZExnVgcp",
        "outputId": "288b7616-f16f-4704-a8f1-de97f1a75a8d"
      },
      "source": [
        "dfFromRDD1 = rdd1.toDF(columns)\n",
        "dfFromRDD1.printSchema()\n",
        "dfFromRDD1.show()\n"
      ],
      "execution_count": null,
      "outputs": [
        {
          "output_type": "stream",
          "name": "stdout",
          "text": [
            "root\n",
            " |-- name: string (nullable = true)\n",
            " |-- age: long (nullable = true)\n",
            " |-- salary: long (nullable = true)\n",
            "\n",
            "+-------+---+------+\n",
            "|   name|age|salary|\n",
            "+-------+---+------+\n",
            "|  Alice| 29| 14500|\n",
            "|    Bob| 25| 12000|\n",
            "|Charlie| 35| 45000|\n",
            "+-------+---+------+\n",
            "\n"
          ]
        }
      ]
    },
    {
      "cell_type": "code",
      "metadata": {
        "colab": {
          "base_uri": "https://localhost:8080/",
          "height": 1000
        },
        "id": "wTWDoT0KWiqR",
        "outputId": "32ce0b9e-0390-4970-8d66-2b55a475953b"
      },
      "source": [
        "lines = sc.textFile(\"people.txt\")\n",
        "print(type(lines))\n",
        "print(lines.collect())"
      ],
      "execution_count": null,
      "outputs": [
        {
          "output_type": "stream",
          "name": "stdout",
          "text": [
            "<class 'pyspark.rdd.RDD'>\n"
          ]
        },
        {
          "output_type": "error",
          "ename": "Py4JJavaError",
          "evalue": "An error occurred while calling z:org.apache.spark.api.python.PythonRDD.collectAndServe.\n: org.apache.hadoop.mapred.InvalidInputException: Input path does not exist: file:/content/people.txt\n\tat org.apache.hadoop.mapred.FileInputFormat.singleThreadedListStatus(FileInputFormat.java:304)\n\tat org.apache.hadoop.mapred.FileInputFormat.listStatus(FileInputFormat.java:244)\n\tat org.apache.hadoop.mapred.FileInputFormat.getSplits(FileInputFormat.java:332)\n\tat org.apache.spark.rdd.HadoopRDD.getPartitions(HadoopRDD.scala:208)\n\tat org.apache.spark.rdd.RDD.$anonfun$partitions$2(RDD.scala:294)\n\tat scala.Option.getOrElse(Option.scala:189)\n\tat org.apache.spark.rdd.RDD.partitions(RDD.scala:290)\n\tat org.apache.spark.rdd.MapPartitionsRDD.getPartitions(MapPartitionsRDD.scala:49)\n\tat org.apache.spark.rdd.RDD.$anonfun$partitions$2(RDD.scala:294)\n\tat scala.Option.getOrElse(Option.scala:189)\n\tat org.apache.spark.rdd.RDD.partitions(RDD.scala:290)\n\tat org.apache.spark.SparkContext.runJob(SparkContext.scala:2458)\n\tat org.apache.spark.rdd.RDD.$anonfun$collect$1(RDD.scala:1049)\n\tat org.apache.spark.rdd.RDDOperationScope$.withScope(RDDOperationScope.scala:151)\n\tat org.apache.spark.rdd.RDDOperationScope$.withScope(RDDOperationScope.scala:112)\n\tat org.apache.spark.rdd.RDD.withScope(RDD.scala:410)\n\tat org.apache.spark.rdd.RDD.collect(RDD.scala:1048)\n\tat org.apache.spark.api.python.PythonRDD$.collectAndServe(PythonRDD.scala:195)\n\tat org.apache.spark.api.python.PythonRDD.collectAndServe(PythonRDD.scala)\n\tat sun.reflect.NativeMethodAccessorImpl.invoke0(Native Method)\n\tat sun.reflect.NativeMethodAccessorImpl.invoke(NativeMethodAccessorImpl.java:62)\n\tat sun.reflect.DelegatingMethodAccessorImpl.invoke(DelegatingMethodAccessorImpl.java:43)\n\tat java.lang.reflect.Method.invoke(Method.java:498)\n\tat py4j.reflection.MethodInvoker.invoke(MethodInvoker.java:244)\n\tat py4j.reflection.ReflectionEngine.invoke(ReflectionEngine.java:374)\n\tat py4j.Gateway.invoke(Gateway.java:282)\n\tat py4j.commands.AbstractCommand.invokeMethod(AbstractCommand.java:132)\n\tat py4j.commands.CallCommand.execute(CallCommand.java:79)\n\tat py4j.ClientServerConnection.waitForCommands(ClientServerConnection.java:182)\n\tat py4j.ClientServerConnection.run(ClientServerConnection.java:106)\n\tat java.lang.Thread.run(Thread.java:750)\nCaused by: java.io.IOException: Input path does not exist: file:/content/people.txt\n\tat org.apache.hadoop.mapred.FileInputFormat.singleThreadedListStatus(FileInputFormat.java:278)\n\t... 30 more\n",
          "traceback": [
            "\u001b[0;31m---------------------------------------------------------------------------\u001b[0m",
            "\u001b[0;31mPy4JJavaError\u001b[0m                             Traceback (most recent call last)",
            "\u001b[0;32m<ipython-input-88-51ae13863afa>\u001b[0m in \u001b[0;36m<cell line: 3>\u001b[0;34m()\u001b[0m\n\u001b[1;32m      1\u001b[0m \u001b[0mlines\u001b[0m \u001b[0;34m=\u001b[0m \u001b[0msc\u001b[0m\u001b[0;34m.\u001b[0m\u001b[0mtextFile\u001b[0m\u001b[0;34m(\u001b[0m\u001b[0;34m\"people.txt\"\u001b[0m\u001b[0;34m)\u001b[0m\u001b[0;34m\u001b[0m\u001b[0;34m\u001b[0m\u001b[0m\n\u001b[1;32m      2\u001b[0m \u001b[0mprint\u001b[0m\u001b[0;34m(\u001b[0m\u001b[0mtype\u001b[0m\u001b[0;34m(\u001b[0m\u001b[0mlines\u001b[0m\u001b[0;34m)\u001b[0m\u001b[0;34m)\u001b[0m\u001b[0;34m\u001b[0m\u001b[0;34m\u001b[0m\u001b[0m\n\u001b[0;32m----> 3\u001b[0;31m \u001b[0mprint\u001b[0m\u001b[0;34m(\u001b[0m\u001b[0mlines\u001b[0m\u001b[0;34m.\u001b[0m\u001b[0mcollect\u001b[0m\u001b[0;34m(\u001b[0m\u001b[0;34m)\u001b[0m\u001b[0;34m)\u001b[0m\u001b[0;34m\u001b[0m\u001b[0;34m\u001b[0m\u001b[0m\n\u001b[0m",
            "\u001b[0;32m/usr/local/lib/python3.10/dist-packages/pyspark/rdd.py\u001b[0m in \u001b[0;36mcollect\u001b[0;34m(self)\u001b[0m\n\u001b[1;32m   1831\u001b[0m         \u001b[0;32mwith\u001b[0m \u001b[0mSCCallSiteSync\u001b[0m\u001b[0;34m(\u001b[0m\u001b[0mself\u001b[0m\u001b[0;34m.\u001b[0m\u001b[0mcontext\u001b[0m\u001b[0;34m)\u001b[0m\u001b[0;34m:\u001b[0m\u001b[0;34m\u001b[0m\u001b[0;34m\u001b[0m\u001b[0m\n\u001b[1;32m   1832\u001b[0m             \u001b[0;32massert\u001b[0m \u001b[0mself\u001b[0m\u001b[0;34m.\u001b[0m\u001b[0mctx\u001b[0m\u001b[0;34m.\u001b[0m\u001b[0m_jvm\u001b[0m \u001b[0;32mis\u001b[0m \u001b[0;32mnot\u001b[0m \u001b[0;32mNone\u001b[0m\u001b[0;34m\u001b[0m\u001b[0;34m\u001b[0m\u001b[0m\n\u001b[0;32m-> 1833\u001b[0;31m             \u001b[0msock_info\u001b[0m \u001b[0;34m=\u001b[0m \u001b[0mself\u001b[0m\u001b[0;34m.\u001b[0m\u001b[0mctx\u001b[0m\u001b[0;34m.\u001b[0m\u001b[0m_jvm\u001b[0m\u001b[0;34m.\u001b[0m\u001b[0mPythonRDD\u001b[0m\u001b[0;34m.\u001b[0m\u001b[0mcollectAndServe\u001b[0m\u001b[0;34m(\u001b[0m\u001b[0mself\u001b[0m\u001b[0;34m.\u001b[0m\u001b[0m_jrdd\u001b[0m\u001b[0;34m.\u001b[0m\u001b[0mrdd\u001b[0m\u001b[0;34m(\u001b[0m\u001b[0;34m)\u001b[0m\u001b[0;34m)\u001b[0m\u001b[0;34m\u001b[0m\u001b[0;34m\u001b[0m\u001b[0m\n\u001b[0m\u001b[1;32m   1834\u001b[0m         \u001b[0;32mreturn\u001b[0m \u001b[0mlist\u001b[0m\u001b[0;34m(\u001b[0m\u001b[0m_load_from_socket\u001b[0m\u001b[0;34m(\u001b[0m\u001b[0msock_info\u001b[0m\u001b[0;34m,\u001b[0m \u001b[0mself\u001b[0m\u001b[0;34m.\u001b[0m\u001b[0m_jrdd_deserializer\u001b[0m\u001b[0;34m)\u001b[0m\u001b[0;34m)\u001b[0m\u001b[0;34m\u001b[0m\u001b[0;34m\u001b[0m\u001b[0m\n\u001b[1;32m   1835\u001b[0m \u001b[0;34m\u001b[0m\u001b[0m\n",
            "\u001b[0;32m/usr/local/lib/python3.10/dist-packages/py4j/java_gateway.py\u001b[0m in \u001b[0;36m__call__\u001b[0;34m(self, *args)\u001b[0m\n\u001b[1;32m   1320\u001b[0m \u001b[0;34m\u001b[0m\u001b[0m\n\u001b[1;32m   1321\u001b[0m         \u001b[0manswer\u001b[0m \u001b[0;34m=\u001b[0m \u001b[0mself\u001b[0m\u001b[0;34m.\u001b[0m\u001b[0mgateway_client\u001b[0m\u001b[0;34m.\u001b[0m\u001b[0msend_command\u001b[0m\u001b[0;34m(\u001b[0m\u001b[0mcommand\u001b[0m\u001b[0;34m)\u001b[0m\u001b[0;34m\u001b[0m\u001b[0;34m\u001b[0m\u001b[0m\n\u001b[0;32m-> 1322\u001b[0;31m         return_value = get_return_value(\n\u001b[0m\u001b[1;32m   1323\u001b[0m             answer, self.gateway_client, self.target_id, self.name)\n\u001b[1;32m   1324\u001b[0m \u001b[0;34m\u001b[0m\u001b[0m\n",
            "\u001b[0;32m/usr/local/lib/python3.10/dist-packages/pyspark/errors/exceptions/captured.py\u001b[0m in \u001b[0;36mdeco\u001b[0;34m(*a, **kw)\u001b[0m\n\u001b[1;32m    177\u001b[0m     \u001b[0;32mdef\u001b[0m \u001b[0mdeco\u001b[0m\u001b[0;34m(\u001b[0m\u001b[0;34m*\u001b[0m\u001b[0ma\u001b[0m\u001b[0;34m:\u001b[0m \u001b[0mAny\u001b[0m\u001b[0;34m,\u001b[0m \u001b[0;34m**\u001b[0m\u001b[0mkw\u001b[0m\u001b[0;34m:\u001b[0m \u001b[0mAny\u001b[0m\u001b[0;34m)\u001b[0m \u001b[0;34m->\u001b[0m \u001b[0mAny\u001b[0m\u001b[0;34m:\u001b[0m\u001b[0;34m\u001b[0m\u001b[0;34m\u001b[0m\u001b[0m\n\u001b[1;32m    178\u001b[0m         \u001b[0;32mtry\u001b[0m\u001b[0;34m:\u001b[0m\u001b[0;34m\u001b[0m\u001b[0;34m\u001b[0m\u001b[0m\n\u001b[0;32m--> 179\u001b[0;31m             \u001b[0;32mreturn\u001b[0m \u001b[0mf\u001b[0m\u001b[0;34m(\u001b[0m\u001b[0;34m*\u001b[0m\u001b[0ma\u001b[0m\u001b[0;34m,\u001b[0m \u001b[0;34m**\u001b[0m\u001b[0mkw\u001b[0m\u001b[0;34m)\u001b[0m\u001b[0;34m\u001b[0m\u001b[0;34m\u001b[0m\u001b[0m\n\u001b[0m\u001b[1;32m    180\u001b[0m         \u001b[0;32mexcept\u001b[0m \u001b[0mPy4JJavaError\u001b[0m \u001b[0;32mas\u001b[0m \u001b[0me\u001b[0m\u001b[0;34m:\u001b[0m\u001b[0;34m\u001b[0m\u001b[0;34m\u001b[0m\u001b[0m\n\u001b[1;32m    181\u001b[0m             \u001b[0mconverted\u001b[0m \u001b[0;34m=\u001b[0m \u001b[0mconvert_exception\u001b[0m\u001b[0;34m(\u001b[0m\u001b[0me\u001b[0m\u001b[0;34m.\u001b[0m\u001b[0mjava_exception\u001b[0m\u001b[0;34m)\u001b[0m\u001b[0;34m\u001b[0m\u001b[0;34m\u001b[0m\u001b[0m\n",
            "\u001b[0;32m/usr/local/lib/python3.10/dist-packages/py4j/protocol.py\u001b[0m in \u001b[0;36mget_return_value\u001b[0;34m(answer, gateway_client, target_id, name)\u001b[0m\n\u001b[1;32m    324\u001b[0m             \u001b[0mvalue\u001b[0m \u001b[0;34m=\u001b[0m \u001b[0mOUTPUT_CONVERTER\u001b[0m\u001b[0;34m[\u001b[0m\u001b[0mtype\u001b[0m\u001b[0;34m]\u001b[0m\u001b[0;34m(\u001b[0m\u001b[0manswer\u001b[0m\u001b[0;34m[\u001b[0m\u001b[0;36m2\u001b[0m\u001b[0;34m:\u001b[0m\u001b[0;34m]\u001b[0m\u001b[0;34m,\u001b[0m \u001b[0mgateway_client\u001b[0m\u001b[0;34m)\u001b[0m\u001b[0;34m\u001b[0m\u001b[0;34m\u001b[0m\u001b[0m\n\u001b[1;32m    325\u001b[0m             \u001b[0;32mif\u001b[0m \u001b[0manswer\u001b[0m\u001b[0;34m[\u001b[0m\u001b[0;36m1\u001b[0m\u001b[0;34m]\u001b[0m \u001b[0;34m==\u001b[0m \u001b[0mREFERENCE_TYPE\u001b[0m\u001b[0;34m:\u001b[0m\u001b[0;34m\u001b[0m\u001b[0;34m\u001b[0m\u001b[0m\n\u001b[0;32m--> 326\u001b[0;31m                 raise Py4JJavaError(\n\u001b[0m\u001b[1;32m    327\u001b[0m                     \u001b[0;34m\"An error occurred while calling {0}{1}{2}.\\n\"\u001b[0m\u001b[0;34m.\u001b[0m\u001b[0;34m\u001b[0m\u001b[0;34m\u001b[0m\u001b[0m\n\u001b[1;32m    328\u001b[0m                     format(target_id, \".\", name), value)\n",
            "\u001b[0;31mPy4JJavaError\u001b[0m: An error occurred while calling z:org.apache.spark.api.python.PythonRDD.collectAndServe.\n: org.apache.hadoop.mapred.InvalidInputException: Input path does not exist: file:/content/people.txt\n\tat org.apache.hadoop.mapred.FileInputFormat.singleThreadedListStatus(FileInputFormat.java:304)\n\tat org.apache.hadoop.mapred.FileInputFormat.listStatus(FileInputFormat.java:244)\n\tat org.apache.hadoop.mapred.FileInputFormat.getSplits(FileInputFormat.java:332)\n\tat org.apache.spark.rdd.HadoopRDD.getPartitions(HadoopRDD.scala:208)\n\tat org.apache.spark.rdd.RDD.$anonfun$partitions$2(RDD.scala:294)\n\tat scala.Option.getOrElse(Option.scala:189)\n\tat org.apache.spark.rdd.RDD.partitions(RDD.scala:290)\n\tat org.apache.spark.rdd.MapPartitionsRDD.getPartitions(MapPartitionsRDD.scala:49)\n\tat org.apache.spark.rdd.RDD.$anonfun$partitions$2(RDD.scala:294)\n\tat scala.Option.getOrElse(Option.scala:189)\n\tat org.apache.spark.rdd.RDD.partitions(RDD.scala:290)\n\tat org.apache.spark.SparkContext.runJob(SparkContext.scala:2458)\n\tat org.apache.spark.rdd.RDD.$anonfun$collect$1(RDD.scala:1049)\n\tat org.apache.spark.rdd.RDDOperationScope$.withScope(RDDOperationScope.scala:151)\n\tat org.apache.spark.rdd.RDDOperationScope$.withScope(RDDOperationScope.scala:112)\n\tat org.apache.spark.rdd.RDD.withScope(RDD.scala:410)\n\tat org.apache.spark.rdd.RDD.collect(RDD.scala:1048)\n\tat org.apache.spark.api.python.PythonRDD$.collectAndServe(PythonRDD.scala:195)\n\tat org.apache.spark.api.python.PythonRDD.collectAndServe(PythonRDD.scala)\n\tat sun.reflect.NativeMethodAccessorImpl.invoke0(Native Method)\n\tat sun.reflect.NativeMethodAccessorImpl.invoke(NativeMethodAccessorImpl.java:62)\n\tat sun.reflect.DelegatingMethodAccessorImpl.invoke(DelegatingMethodAccessorImpl.java:43)\n\tat java.lang.reflect.Method.invoke(Method.java:498)\n\tat py4j.reflection.MethodInvoker.invoke(MethodInvoker.java:244)\n\tat py4j.reflection.ReflectionEngine.invoke(ReflectionEngine.java:374)\n\tat py4j.Gateway.invoke(Gateway.java:282)\n\tat py4j.commands.AbstractCommand.invokeMethod(AbstractCommand.java:132)\n\tat py4j.commands.CallCommand.execute(CallCommand.java:79)\n\tat py4j.ClientServerConnection.waitForCommands(ClientServerConnection.java:182)\n\tat py4j.ClientServerConnection.run(ClientServerConnection.java:106)\n\tat java.lang.Thread.run(Thread.java:750)\nCaused by: java.io.IOException: Input path does not exist: file:/content/people.txt\n\tat org.apache.hadoop.mapred.FileInputFormat.singleThreadedListStatus(FileInputFormat.java:278)\n\t... 30 more\n"
          ]
        }
      ]
    },
    {
      "cell_type": "code",
      "metadata": {
        "id": "fEWXLAU7W8u5"
      },
      "source": [
        "rows = lines.map(lambda value: value.split(\",\"))\n",
        "print(type(rows))\n",
        "print(rows.collect())"
      ],
      "execution_count": null,
      "outputs": []
    },
    {
      "cell_type": "code",
      "metadata": {
        "id": "CtqpA8F0XmGr"
      },
      "source": [
        "peopleRDD = rows.map(lambda value: Row(name = value[0], age = int(value[1]), salary = float(value[2])))\n",
        "print(type(peopleRDD))\n",
        "print(peopleRDD.collect())"
      ],
      "execution_count": null,
      "outputs": []
    },
    {
      "cell_type": "code",
      "metadata": {
        "id": "Xs9qooDqYphD"
      },
      "source": [
        "dfFromPeople = peopleRDD.toDF()\n",
        "dfFromPeople.show()"
      ],
      "execution_count": null,
      "outputs": []
    },
    {
      "cell_type": "code",
      "metadata": {
        "id": "ObpfdqJ1ZbPh"
      },
      "source": [
        "dfFromCSV = spark.read.options(header = 'True', inferSchema = 'True').csv(\"people.csv\")\n",
        "dfFromCSV.show()"
      ],
      "execution_count": null,
      "outputs": []
    },
    {
      "cell_type": "code",
      "metadata": {
        "id": "fKc3Sk2NaPMS"
      },
      "source": [
        "list1 = [i for i in range(11)]\n",
        "print(list1)"
      ],
      "execution_count": null,
      "outputs": []
    },
    {
      "cell_type": "code",
      "metadata": {
        "id": "aKmH283taY5B"
      },
      "source": [
        "list1RDD = sc.parallelize(list1)\n",
        "print(list1RDD.collect())\n"
      ],
      "execution_count": null,
      "outputs": []
    },
    {
      "cell_type": "code",
      "metadata": {
        "id": "E96gKMKsaoIK"
      },
      "source": [
        "intermediate1 = list1RDD.map(lambda value: value)\n",
        "print(intermediate1.collect())"
      ],
      "execution_count": null,
      "outputs": []
    },
    {
      "cell_type": "code",
      "metadata": {
        "id": "I2_ltscfbVk0"
      },
      "source": [
        "final = intermediate1.reduce(lambda x, y: x+y)\n",
        "print(type(final))\n",
        "print(final)"
      ],
      "execution_count": null,
      "outputs": []
    },
    {
      "cell_type": "code",
      "metadata": {
        "id": "x6IuJt4udC7y"
      },
      "source": [
        "from operator import add\n",
        "final1 = intermediate1.reduce(add)\n",
        "print(final1)"
      ],
      "execution_count": null,
      "outputs": []
    },
    {
      "cell_type": "code",
      "metadata": {
        "id": "CSA1qdczeVqA"
      },
      "source": [
        "list2 = ['Apple', 'Apple', 'Bat', 'Cat', 'Dog', 'Cat', 'Bat', 'Apple']\n",
        "rdd_list2 = sc.parallelize(list2)"
      ],
      "execution_count": null,
      "outputs": []
    },
    {
      "cell_type": "code",
      "metadata": {
        "id": "3w7TA0C3evqS"
      },
      "source": [
        "rdd_map_list2 = rdd_list2.map(lambda w: (w, 1))\n",
        "print(rdd_map_list2.collect())"
      ],
      "execution_count": null,
      "outputs": []
    },
    {
      "cell_type": "code",
      "metadata": {
        "id": "8GwjtRBzfCOK"
      },
      "source": [
        "rdd_reduce_list2 = rdd_map_list2.reduceByKey(lambda x, y: x+y).sortBy(lambda r: -r[1])\n",
        "print(rdd_reduce_list2.collect())"
      ],
      "execution_count": null,
      "outputs": []
    }
  ]
}